{
 "cells": [
  {
   "cell_type": "markdown",
   "metadata": {},
   "source": [
    "# pandas 进阶修炼 ｜早起Python\n",
    "<br>\n",
    "\n",
    "**本习题由公众号【早起Python & 可视化图鉴】 原创，转载及其他形式合作请与我们联系（微信号`sshs321`)，未经授权严禁搬运及二次创作，侵权必究！**\n",
    "\n",
    "\n",
    "\n",
    "本习题基于 `pandas` 版本 `1.1.3`，所有内容应当在 `Jupyter Notebook` 中执行以获得最佳效果。\n",
    "\n",
    "\n",
    "不同版本之间写法可能会有少许不同，如若碰到此情况，你应该学会如何自行检索解决。"
   ]
  },
  {
   "cell_type": "markdown",
   "metadata": {},
   "source": [
    "## 8 - 金融数据与时间处理\n",
    "\n",
    "\n",
    "\n",
    "<br>\n",
    "\n",
    "**<font color = '#5172F0'><font size=3.5>必读👇👇👇**</font>\n",
    "    \n",
    " \n",
    "有关于 pandas 的常用操作，在前面几个章节已经基本介绍完毕。\n",
    "    \n",
    "但是在利用 pandas 进行数据分析时，一个很重要的操作就是与带有时间属性的数据进行交互。\n",
    "    \n",
    "并且常常与股票、基金、数字货币等数据相关。\n",
    "    \n",
    "因此，本章是一个专题练习，将介绍\n",
    "- pandas操作时间\n",
    "- 股票数据分析\n",
    "- k线图制作\n",
    "\n"
   ]
  },
  {
   "cell_type": "markdown",
   "metadata": {},
   "source": [
    "## 初始化\n",
    "\n",
    "<br>\n",
    "\n",
    "该 `Notebook` 版本为**纯习题版**\n",
    "\n",
    "如果需要答案或者提示，可以微信搜索公众号「早起Python」获取！"
   ]
  },
  {
   "cell_type": "markdown",
   "metadata": {},
   "source": [
    "## 8-1 pandas中的时间操作"
   ]
  },
  {
   "cell_type": "markdown",
   "metadata": {},
   "source": [
    "### 1 - 时间生成｜当前时间\n",
    "\n",
    "使用 pandas 获取当前时间\n"
   ]
  },
  {
   "cell_type": "code",
   "execution_count": 2,
   "metadata": {},
   "outputs": [
    {
     "data": {
      "text/plain": [
       "Timestamp('2022-01-28 14:13:27.955377')"
      ]
     },
     "execution_count": 2,
     "metadata": {},
     "output_type": "execute_result"
    }
   ],
   "source": [
    "import pandas as pd\n",
    "\n",
    "pd.Timestamp('now')"
   ]
  },
  {
   "cell_type": "markdown",
   "metadata": {},
   "source": [
    "### 2 - 时间生成｜指定范围\n",
    "\n"
   ]
  },
  {
   "cell_type": "markdown",
   "metadata": {},
   "source": [
    "\n",
    "pandas.date_range(\n",
    "    \n",
    "    start=None, \n",
    "    end=None, \n",
    "    periods=None, \n",
    "    freq=None, \n",
    "    tz=None, \n",
    "    normalize=False, \n",
    "    name=None, \n",
    "    closed=NoDefault.no_default, \n",
    "    inclusive=None, \n",
    "    **kwargs\n",
    "    )\n",
    "\n",
    "Of the four parameters `start, end, periods, and freq`, exactly three must be specified. If freq is omitted, the resulting DatetimeIndex will have periods linearly spaced elements between start and end (closed on both sides)."
   ]
  },
  {
   "cell_type": "markdown",
   "metadata": {},
   "source": [
    "使用 pandas 按天生成 2021年1月1日 至 2021年9月1日的全部日期"
   ]
  },
  {
   "cell_type": "code",
   "execution_count": 6,
   "metadata": {},
   "outputs": [
    {
     "data": {
      "text/plain": [
       "366"
      ]
     },
     "execution_count": 6,
     "metadata": {},
     "output_type": "execute_result"
    }
   ],
   "source": [
    "time_range=pd.date_range('1/1/2020','12/31/2020')\n",
    "len(time_range)"
   ]
  },
  {
   "cell_type": "markdown",
   "metadata": {},
   "source": [
    "### 3 - 时间生成｜指定长度\n",
    "\n",
    "使用 pandas 从 2021年1月1日开始，按天生成 10 天日期"
   ]
  },
  {
   "cell_type": "code",
   "execution_count": 7,
   "metadata": {},
   "outputs": [
    {
     "data": {
      "text/plain": [
       "DatetimeIndex(['2021-01-01', '2021-01-02', '2021-01-03', '2021-01-04',\n",
       "               '2021-01-05', '2021-01-06', '2021-01-07', '2021-01-08',\n",
       "               '2021-01-09', '2021-01-10'],\n",
       "              dtype='datetime64[ns]', freq='D')"
      ]
     },
     "execution_count": 7,
     "metadata": {},
     "output_type": "execute_result"
    }
   ],
   "source": [
    "pd.date_range(\"2021-01-01\", periods=10)"
   ]
  },
  {
   "cell_type": "markdown",
   "metadata": {},
   "source": [
    "### 4 - 时间生成｜指定频率\n",
    "\n",
    "使用 pandas 从 2021年1月1日开始，按周生成 7 周日期"
   ]
  },
  {
   "cell_type": "code",
   "execution_count": 11,
   "metadata": {},
   "outputs": [
    {
     "data": {
      "text/plain": [
       "DatetimeIndex(['2021-01-03', '2021-01-10', '2021-01-17', '2021-01-24',\n",
       "               '2021-01-31', '2021-02-07', '2021-02-14'],\n",
       "              dtype='datetime64[ns]', freq='W-SUN')"
      ]
     },
     "execution_count": 11,
     "metadata": {},
     "output_type": "execute_result"
    }
   ],
   "source": [
    "pd.date_range(\"2021-01-01\", periods=7, freq=\"W\")"
   ]
  },
  {
   "cell_type": "markdown",
   "metadata": {},
   "source": [
    "### 5 - 时间生成｜特殊规律\n",
    "\n",
    "使用 pandas 按天生成 2021年1月1日 至 2021年9月1日的全部**工作日**日期"
   ]
  },
  {
   "cell_type": "code",
   "execution_count": null,
   "metadata": {},
   "outputs": [],
   "source": [
    "date=pd.bdate_range(start='1/1/2022', end='12/31/2022')\n",
    "date2=pd.date_range(start='1/1/2022', end='12/31/2022',freq=\"B\")\n",
    "date==date2"
   ]
  },
  {
   "cell_type": "markdown",
   "metadata": {},
   "source": [
    "### 6 - 时间计算｜时间差（天）\n",
    "\n",
    "使用 pandas 计算 2021年2月14日 距离今天相差多少天"
   ]
  },
  {
   "cell_type": "code",
   "execution_count": 32,
   "metadata": {},
   "outputs": [
    {
     "data": {
      "text/plain": [
       "348"
      ]
     },
     "execution_count": 32,
     "metadata": {},
     "output_type": "execute_result"
    },
    {
     "data": {
      "text/plain": [
       "30120154593959000"
      ]
     },
     "execution_count": 32,
     "metadata": {},
     "output_type": "execute_result"
    },
    {
     "data": {
      "text/plain": [
       "True"
      ]
     },
     "execution_count": 32,
     "metadata": {},
     "output_type": "execute_result"
    },
    {
     "data": {
      "text/plain": [
       "True"
      ]
     },
     "execution_count": 32,
     "metadata": {},
     "output_type": "execute_result"
    },
    {
     "data": {
      "text/plain": [
       "True"
      ]
     },
     "execution_count": 32,
     "metadata": {},
     "output_type": "execute_result"
    },
    {
     "data": {
      "text/plain": [
       "6"
      ]
     },
     "execution_count": 32,
     "metadata": {},
     "output_type": "execute_result"
    }
   ],
   "source": [
    "(pd.Timestamp('now') - pd.to_datetime('2021-02-14')).days\n",
    "(pd.Timestamp('now') - pd.to_datetime('2021-02-14')).value\n",
    "#  Timedelta is the pandas equivalent of python’s datetime.timedelta\n",
    "pd.Timestamp('now').dayofweek==pd.Timestamp('now').weekday()\n",
    "# ==pd.Timestamp('now').day_of_week\n",
    "pd.Timestamp('now').day_of_year==pd.Timestamp('now').dayofyear\n",
    "pd.Timestamp('now').daysinmonth==pd.Timestamp('now').days_in_month\n",
    "pd.to_datetime('2021-02-14').weekofyear"
   ]
  },
  {
   "cell_type": "markdown",
   "metadata": {},
   "source": [
    "### 7 - 时间计算｜时间差（小时）\n",
    "\n",
    "使用 pandas 计算 2021年9月1日13点14分 距离今天相差多少小时"
   ]
  },
  {
   "cell_type": "code",
   "execution_count": 37,
   "metadata": {},
   "outputs": [
    {
     "data": {
      "text/plain": [
       "149.06340818490742"
      ]
     },
     "execution_count": 37,
     "metadata": {},
     "output_type": "execute_result"
    }
   ],
   "source": [
    "import numpy as np\n",
    "(pd.Timestamp('now') - pd.to_datetime('2021-09-01 13:14:00'))/np.timedelta64(1, 'D')"
   ]
  },
  {
   "cell_type": "markdown",
   "metadata": {},
   "source": [
    "### 8 - 时间运算\n",
    "\n",
    "将第一题得到的时间减去一天"
   ]
  },
  {
   "cell_type": "markdown",
   "metadata": {},
   "source": [
    "to_timedelta(arg, unit=None, errors='raise') \n",
    "\n",
    "可以不用','直接上('1 days')\n",
    "\n",
    "unitstr, optional\n",
    "Denotes the unit of the arg for numeric arg. Defaults to \"ns\".\n",
    "\n",
    "Possible values:\n",
    "\n",
    "‘W’\n",
    "\n",
    "‘D’ / ‘days’ / ‘day’\n",
    "\n",
    "‘hours’ / ‘hour’ / ‘hr’ / ‘h’\n",
    "\n",
    "‘m’ / ‘minute’ / ‘min’ / ‘minutes’ / ‘T’\n",
    "\n",
    "‘S’ / ‘seconds’ / ‘sec’ / ‘second’\n",
    "\n",
    "‘ms’ / ‘milliseconds’ / ‘millisecond’ / ‘milli’ / ‘millis’ / ‘L’\n",
    "\n",
    "‘us’ / ‘microseconds’ / ‘microsecond’ / ‘micro’ / ‘micros’ / ‘U’\n",
    "\n",
    "‘ns’ / ‘nanoseconds’ / ‘nano’ / ‘nanos’ / ‘nanosecond’ / ‘N’"
   ]
  },
  {
   "cell_type": "code",
   "execution_count": 46,
   "metadata": {},
   "outputs": [
    {
     "data": {
      "text/plain": [
       "Timestamp('2022-01-27 14:50:00.497158')"
      ]
     },
     "execution_count": 46,
     "metadata": {},
     "output_type": "execute_result"
    },
    {
     "data": {
      "text/plain": [
       "Timestamp('2022-01-27 14:50:00.499154')"
      ]
     },
     "execution_count": 46,
     "metadata": {},
     "output_type": "execute_result"
    },
    {
     "data": {
      "text/plain": [
       "Timestamp('2022-01-27 14:50:00.502146')"
      ]
     },
     "execution_count": 46,
     "metadata": {},
     "output_type": "execute_result"
    }
   ],
   "source": [
    "(pd.Timestamp('now') - pd.to_timedelta('1, days'))\n",
    "(pd.Timestamp('now') - pd.to_timedelta(1, 'days'))\n",
    "(pd.Timestamp('now') - pd.to_timedelta('1D'))\n",
    "(pd.Timestamp('now') - pd.to_timedelta('1D'))\n",
    "# 以上都可以"
   ]
  },
  {
   "cell_type": "markdown",
   "metadata": {},
   "source": [
    "### 9 - 时间格式化\n",
    "\n",
    "将上一题的结果式化为 xx年xx月xx日-xx时xx分xx秒"
   ]
  },
  {
   "cell_type": "code",
   "execution_count": null,
   "metadata": {},
   "outputs": [],
   "source": [
    "(pd.Timestamp('now') - pd.to_timedelta('1 day')).strftime(\"%Y年%m月%d日-%H时%M分%S秒\")"
   ]
  },
  {
   "cell_type": "markdown",
   "metadata": {},
   "source": [
    "## 8-2 股票数据分析"
   ]
  },
  {
   "cell_type": "markdown",
   "metadata": {},
   "source": [
    "### 10 - 加载数据\n",
    "\n",
    "本小节的数据将通过 [akshare](https://www.akshare.xyz/data/stock/stock.html#id8) 获取\n",
    "\n",
    "如果你的电脑上未安装 akshare，可以执行下方代码进行安装"
   ]
  },
  {
   "cell_type": "code",
   "execution_count": 1,
   "metadata": {},
   "outputs": [],
   "source": [
    "#  已安装 \n",
    "# pip install akshare -i http://mirrors.aliyun.com/pypi/simple/ --trusted-host=mirrors.aliyun.com  --upgrade\n"
   ]
  },
  {
   "cell_type": "code",
   "execution_count": 7,
   "metadata": {},
   "outputs": [],
   "source": [
    "import pandas as pd\n",
    "import akshare as ak\n",
    "import matplotlib.pyplot as plt\n",
    "from datetime import datetime\n",
    "plt.rcParams['font.sans-serif'] = ['SimHei']   # 设置简黑字体\n",
    "plt.rcParams['axes.unicode_minus'] = False  # 解决'-'' bug"
   ]
  },
  {
   "cell_type": "markdown",
   "metadata": {},
   "source": [
    "如果任何原因安装、导入失败，可以取消下方代码的注释，从本地读取数据"
   ]
  },
  {
   "cell_type": "code",
   "execution_count": 58,
   "metadata": {},
   "outputs": [
    {
     "data": {
      "text/html": [
       "<div>\n",
       "<style scoped>\n",
       "    .dataframe tbody tr th:only-of-type {\n",
       "        vertical-align: middle;\n",
       "    }\n",
       "\n",
       "    .dataframe tbody tr th {\n",
       "        vertical-align: top;\n",
       "    }\n",
       "\n",
       "    .dataframe thead th {\n",
       "        text-align: right;\n",
       "    }\n",
       "</style>\n",
       "<table border=\"1\" class=\"dataframe\">\n",
       "  <thead>\n",
       "    <tr style=\"text-align: right;\">\n",
       "      <th></th>\n",
       "      <th>日期</th>\n",
       "      <th>开盘</th>\n",
       "      <th>收盘</th>\n",
       "      <th>最高</th>\n",
       "      <th>最低</th>\n",
       "      <th>成交量</th>\n",
       "      <th>成交额</th>\n",
       "      <th>振幅</th>\n",
       "      <th>涨跌幅</th>\n",
       "      <th>涨跌额</th>\n",
       "      <th>换手率</th>\n",
       "    </tr>\n",
       "  </thead>\n",
       "  <tbody>\n",
       "    <tr>\n",
       "      <th>0</th>\n",
       "      <td>2017/1/3</td>\n",
       "      <td>8.27</td>\n",
       "      <td>8.32</td>\n",
       "      <td>8.34</td>\n",
       "      <td>8.25</td>\n",
       "      <td>459840</td>\n",
       "      <td>420595184</td>\n",
       "      <td>1.09</td>\n",
       "      <td>0.73</td>\n",
       "      <td>0.06</td>\n",
       "      <td>0.31</td>\n",
       "    </tr>\n",
       "    <tr>\n",
       "      <th>1</th>\n",
       "      <td>2017/1/4</td>\n",
       "      <td>8.31</td>\n",
       "      <td>8.32</td>\n",
       "      <td>8.34</td>\n",
       "      <td>8.30</td>\n",
       "      <td>449330</td>\n",
       "      <td>411503440</td>\n",
       "      <td>0.48</td>\n",
       "      <td>0.00</td>\n",
       "      <td>0.00</td>\n",
       "      <td>0.31</td>\n",
       "    </tr>\n",
       "    <tr>\n",
       "      <th>2</th>\n",
       "      <td>2017/1/5</td>\n",
       "      <td>8.33</td>\n",
       "      <td>8.33</td>\n",
       "      <td>8.34</td>\n",
       "      <td>8.31</td>\n",
       "      <td>344373</td>\n",
       "      <td>315769696</td>\n",
       "      <td>0.36</td>\n",
       "      <td>0.12</td>\n",
       "      <td>0.01</td>\n",
       "      <td>0.24</td>\n",
       "    </tr>\n",
       "    <tr>\n",
       "      <th>3</th>\n",
       "      <td>2017/1/6</td>\n",
       "      <td>8.33</td>\n",
       "      <td>8.29</td>\n",
       "      <td>8.33</td>\n",
       "      <td>8.27</td>\n",
       "      <td>358154</td>\n",
       "      <td>327176432</td>\n",
       "      <td>0.72</td>\n",
       "      <td>-0.48</td>\n",
       "      <td>-0.04</td>\n",
       "      <td>0.24</td>\n",
       "    </tr>\n",
       "    <tr>\n",
       "      <th>4</th>\n",
       "      <td>2017/1/9</td>\n",
       "      <td>8.29</td>\n",
       "      <td>8.31</td>\n",
       "      <td>8.33</td>\n",
       "      <td>8.27</td>\n",
       "      <td>361082</td>\n",
       "      <td>329994608</td>\n",
       "      <td>0.72</td>\n",
       "      <td>0.24</td>\n",
       "      <td>0.02</td>\n",
       "      <td>0.21</td>\n",
       "    </tr>\n",
       "    <tr>\n",
       "      <th>...</th>\n",
       "      <td>...</td>\n",
       "      <td>...</td>\n",
       "      <td>...</td>\n",
       "      <td>...</td>\n",
       "      <td>...</td>\n",
       "      <td>...</td>\n",
       "      <td>...</td>\n",
       "      <td>...</td>\n",
       "      <td>...</td>\n",
       "      <td>...</td>\n",
       "      <td>...</td>\n",
       "    </tr>\n",
       "    <tr>\n",
       "      <th>1141</th>\n",
       "      <td>2021/9/8</td>\n",
       "      <td>19.24</td>\n",
       "      <td>19.23</td>\n",
       "      <td>19.55</td>\n",
       "      <td>19.10</td>\n",
       "      <td>1026201</td>\n",
       "      <td>1979771472</td>\n",
       "      <td>2.34</td>\n",
       "      <td>-0.05</td>\n",
       "      <td>-0.01</td>\n",
       "      <td>0.53</td>\n",
       "    </tr>\n",
       "    <tr>\n",
       "      <th>1142</th>\n",
       "      <td>2021/9/9</td>\n",
       "      <td>19.11</td>\n",
       "      <td>19.00</td>\n",
       "      <td>19.15</td>\n",
       "      <td>18.80</td>\n",
       "      <td>739506</td>\n",
       "      <td>1399536016</td>\n",
       "      <td>1.82</td>\n",
       "      <td>-1.20</td>\n",
       "      <td>-0.23</td>\n",
       "      <td>0.38</td>\n",
       "    </tr>\n",
       "    <tr>\n",
       "      <th>1143</th>\n",
       "      <td>2021/9/10</td>\n",
       "      <td>18.89</td>\n",
       "      <td>20.57</td>\n",
       "      <td>20.77</td>\n",
       "      <td>18.84</td>\n",
       "      <td>2314945</td>\n",
       "      <td>4668361728</td>\n",
       "      <td>10.16</td>\n",
       "      <td>8.26</td>\n",
       "      <td>1.57</td>\n",
       "      <td>1.19</td>\n",
       "    </tr>\n",
       "    <tr>\n",
       "      <th>1144</th>\n",
       "      <td>2021/9/13</td>\n",
       "      <td>20.36</td>\n",
       "      <td>20.21</td>\n",
       "      <td>20.51</td>\n",
       "      <td>19.81</td>\n",
       "      <td>1297228</td>\n",
       "      <td>2606152384</td>\n",
       "      <td>3.40</td>\n",
       "      <td>-1.75</td>\n",
       "      <td>-0.36</td>\n",
       "      <td>0.67</td>\n",
       "    </tr>\n",
       "    <tr>\n",
       "      <th>1145</th>\n",
       "      <td>2021/9/14</td>\n",
       "      <td>20.18</td>\n",
       "      <td>19.37</td>\n",
       "      <td>20.27</td>\n",
       "      <td>19.27</td>\n",
       "      <td>1158173</td>\n",
       "      <td>2272080160</td>\n",
       "      <td>4.95</td>\n",
       "      <td>-4.16</td>\n",
       "      <td>-0.84</td>\n",
       "      <td>0.60</td>\n",
       "    </tr>\n",
       "  </tbody>\n",
       "</table>\n",
       "<p>1146 rows × 11 columns</p>\n",
       "</div>"
      ],
      "text/plain": [
       "             日期     开盘     收盘     最高     最低      成交量         成交额     振幅   涨跌幅  \\\n",
       "0      2017/1/3   8.27   8.32   8.34   8.25   459840   420595184   1.09  0.73   \n",
       "1      2017/1/4   8.31   8.32   8.34   8.30   449330   411503440   0.48  0.00   \n",
       "2      2017/1/5   8.33   8.33   8.34   8.31   344373   315769696   0.36  0.12   \n",
       "3      2017/1/6   8.33   8.29   8.33   8.27   358154   327176432   0.72 -0.48   \n",
       "4      2017/1/9   8.29   8.31   8.33   8.27   361082   329994608   0.72  0.24   \n",
       "...         ...    ...    ...    ...    ...      ...         ...    ...   ...   \n",
       "1141   2021/9/8  19.24  19.23  19.55  19.10  1026201  1979771472   2.34 -0.05   \n",
       "1142   2021/9/9  19.11  19.00  19.15  18.80   739506  1399536016   1.82 -1.20   \n",
       "1143  2021/9/10  18.89  20.57  20.77  18.84  2314945  4668361728  10.16  8.26   \n",
       "1144  2021/9/13  20.36  20.21  20.51  19.81  1297228  2606152384   3.40 -1.75   \n",
       "1145  2021/9/14  20.18  19.37  20.27  19.27  1158173  2272080160   4.95 -4.16   \n",
       "\n",
       "       涨跌额   换手率  \n",
       "0     0.06  0.31  \n",
       "1     0.00  0.31  \n",
       "2     0.01  0.24  \n",
       "3    -0.04  0.24  \n",
       "4     0.02  0.21  \n",
       "...    ...   ...  \n",
       "1141 -0.01  0.53  \n",
       "1142 -0.23  0.38  \n",
       "1143  1.57  1.19  \n",
       "1144 -0.36  0.67  \n",
       "1145 -0.84  0.60  \n",
       "\n",
       "[1146 rows x 11 columns]"
      ]
     },
     "execution_count": 58,
     "metadata": {},
     "output_type": "execute_result"
    },
    {
     "data": {
      "text/plain": [
       "Index(['时间', '开盘', '收盘', '最高', '最低', '涨跌幅', '涨跌额', '成交量', '成交额', '振幅', '换手率'], dtype='object')"
      ]
     },
     "execution_count": 58,
     "metadata": {},
     "output_type": "execute_result"
    }
   ],
   "source": [
    "# 日线\n",
    "# df1 = ak.stock_zh_a_hist(symbol=\"600519\", period=\"daily\", start_date=\"20220101\", end_date='20220128', adjust=\"qfq\")\n",
    "df1 = pd.read_csv(\"000001_daily.csv\")\n",
    "df1\n",
    "# 5min\n",
    "# df2 = ak.stock_zh_a_hist_min_em(symbol=\"000001\", period='5', adjust='qfq', start_date=\"2021-08-01 09:32:00\", end_date=\"2021-09-14 09:32:00\")\n",
    "df2 = pd.read_csv(\"000001_5min.csv\")\n",
    "df2.columns"
   ]
  },
  {
   "cell_type": "code",
   "execution_count": 16,
   "metadata": {},
   "outputs": [
    {
     "name": "stderr",
     "output_type": "stream",
     "text": [
      "                                     \r"
     ]
    },
    {
     "data": {
      "text/html": [
       "<div>\n",
       "<style scoped>\n",
       "    .dataframe tbody tr th:only-of-type {\n",
       "        vertical-align: middle;\n",
       "    }\n",
       "\n",
       "    .dataframe tbody tr th {\n",
       "        vertical-align: top;\n",
       "    }\n",
       "\n",
       "    .dataframe thead th {\n",
       "        text-align: right;\n",
       "    }\n",
       "</style>\n",
       "<table border=\"1\" class=\"dataframe\">\n",
       "  <thead>\n",
       "    <tr style=\"text-align: right;\">\n",
       "      <th></th>\n",
       "      <th>city</th>\n",
       "      <th>date</th>\n",
       "      <th>pollutant</th>\n",
       "      <th>minaqi</th>\n",
       "      <th>maxaqi</th>\n",
       "      <th>level</th>\n",
       "    </tr>\n",
       "  </thead>\n",
       "  <tbody>\n",
       "    <tr>\n",
       "      <th>0</th>\n",
       "      <td>保定市</td>\n",
       "      <td>2022-01-29</td>\n",
       "      <td>PM2.5</td>\n",
       "      <td>130</td>\n",
       "      <td>160</td>\n",
       "      <td>轻度-中度</td>\n",
       "    </tr>\n",
       "    <tr>\n",
       "      <th>1</th>\n",
       "      <td>保定市</td>\n",
       "      <td>2022-01-30</td>\n",
       "      <td>PM2.5</td>\n",
       "      <td>175</td>\n",
       "      <td>205</td>\n",
       "      <td>中度-重度</td>\n",
       "    </tr>\n",
       "    <tr>\n",
       "      <th>2</th>\n",
       "      <td>保定市</td>\n",
       "      <td>2022-01-31</td>\n",
       "      <td>PM10,NO2</td>\n",
       "      <td>60</td>\n",
       "      <td>90</td>\n",
       "      <td>良</td>\n",
       "    </tr>\n",
       "    <tr>\n",
       "      <th>3</th>\n",
       "      <td>保定市</td>\n",
       "      <td>2022-02-01</td>\n",
       "      <td>PM10,NO2</td>\n",
       "      <td>60</td>\n",
       "      <td>90</td>\n",
       "      <td>良</td>\n",
       "    </tr>\n",
       "    <tr>\n",
       "      <th>4</th>\n",
       "      <td>保定市</td>\n",
       "      <td>2022-02-02</td>\n",
       "      <td>PM10,PM2.5</td>\n",
       "      <td>75</td>\n",
       "      <td>105</td>\n",
       "      <td>良-轻度</td>\n",
       "    </tr>\n",
       "    <tr>\n",
       "      <th>5</th>\n",
       "      <td>保定市</td>\n",
       "      <td>2022-02-03</td>\n",
       "      <td>PM2.5</td>\n",
       "      <td>60</td>\n",
       "      <td>90</td>\n",
       "      <td>良</td>\n",
       "    </tr>\n",
       "  </tbody>\n",
       "</table>\n",
       "</div>"
      ],
      "text/plain": [
       "  city        date   pollutant  minaqi  maxaqi  level\n",
       "0  保定市  2022-01-29       PM2.5     130     160  轻度-中度\n",
       "1  保定市  2022-01-30       PM2.5     175     205  中度-重度\n",
       "2  保定市  2022-01-31    PM10,NO2      60      90      良\n",
       "3  保定市  2022-02-01    PM10,NO2      60      90      良\n",
       "4  保定市  2022-02-02  PM10,PM2.5      75     105   良-轻度\n",
       "5  保定市  2022-02-03       PM2.5      60      90      良"
      ]
     },
     "execution_count": 16,
     "metadata": {},
     "output_type": "execute_result"
    },
    {
     "data": {
      "text/plain": [
       "<AxesSubplot:>"
      ]
     },
     "execution_count": 16,
     "metadata": {},
     "output_type": "execute_result"
    },
    {
     "data": {
      "text/plain": [
       "Text(0.5, 1.0, '股票策略V.S.期货策略收益率指数')"
      ]
     },
     "execution_count": 16,
     "metadata": {},
     "output_type": "execute_result"
    },
    {
     "data": {
      "text/plain": [
       "<matplotlib.legend.Legend at 0x20cb5543fa0>"
      ]
     },
     "execution_count": 16,
     "metadata": {},
     "output_type": "execute_result"
    },
    {
     "data": {
      "image/png": "[encoded data removed]",
      "text/plain": [
       "<Figure size 432x288 with 1 Axes>"
      ]
     },
     "metadata": {
      "needs_background": "light"
     },
     "output_type": "display_data"
    }
   ],
   "source": [
    "air_quality_hebei_df = ak.air_quality_hebei(symbol=\"保定市\")\n",
    "air_quality_hebei_df \n",
    "air_quality_hebei_df.plot()\n",
    "\n",
    "plt.title(\"股票策略V.S.期货策略收益率指数\")\n",
    "plt.legend()\n",
    "plt.show()"
   ]
  },
  {
   "cell_type": "code",
   "execution_count": 42,
   "metadata": {},
   "outputs": [
    {
     "data": {
      "text/html": [
       "<div>\n",
       "<style scoped>\n",
       "    .dataframe tbody tr th:only-of-type {\n",
       "        vertical-align: middle;\n",
       "    }\n",
       "\n",
       "    .dataframe tbody tr th {\n",
       "        vertical-align: top;\n",
       "    }\n",
       "\n",
       "    .dataframe thead th {\n",
       "        text-align: right;\n",
       "    }\n",
       "</style>\n",
       "<table border=\"1\" class=\"dataframe\">\n",
       "  <thead>\n",
       "    <tr style=\"text-align: right;\">\n",
       "      <th></th>\n",
       "      <th>2020年</th>\n",
       "      <th>2021年</th>\n",
       "    </tr>\n",
       "    <tr>\n",
       "      <th>月份</th>\n",
       "      <th></th>\n",
       "      <th></th>\n",
       "    </tr>\n",
       "  </thead>\n",
       "  <tbody>\n",
       "    <tr>\n",
       "      <th>1月</th>\n",
       "      <td>4.1478</td>\n",
       "      <td>15.5388</td>\n",
       "    </tr>\n",
       "    <tr>\n",
       "      <th>2月</th>\n",
       "      <td>1.2431</td>\n",
       "      <td>9.7059</td>\n",
       "    </tr>\n",
       "    <tr>\n",
       "      <th>3月</th>\n",
       "      <td>5.4619</td>\n",
       "      <td>18.5328</td>\n",
       "    </tr>\n",
       "    <tr>\n",
       "      <th>4月</th>\n",
       "      <td>5.5870</td>\n",
       "      <td>16.1418</td>\n",
       "    </tr>\n",
       "    <tr>\n",
       "      <th>5月</th>\n",
       "      <td>6.7363</td>\n",
       "      <td>18.7316</td>\n",
       "    </tr>\n",
       "    <tr>\n",
       "      <th>6月</th>\n",
       "      <td>8.3278</td>\n",
       "      <td>22.9634</td>\n",
       "    </tr>\n",
       "    <tr>\n",
       "      <th>7月</th>\n",
       "      <td>8.2568</td>\n",
       "      <td>22.2233</td>\n",
       "    </tr>\n",
       "    <tr>\n",
       "      <th>8月</th>\n",
       "      <td>9.3297</td>\n",
       "      <td>24.9588</td>\n",
       "    </tr>\n",
       "    <tr>\n",
       "      <th>9月</th>\n",
       "      <td>11.0416</td>\n",
       "      <td>33.3532</td>\n",
       "    </tr>\n",
       "    <tr>\n",
       "      <th>10月</th>\n",
       "      <td>13.3145</td>\n",
       "      <td>31.7030</td>\n",
       "    </tr>\n",
       "    <tr>\n",
       "      <th>11月</th>\n",
       "      <td>17.0363</td>\n",
       "      <td>37.8487</td>\n",
       "    </tr>\n",
       "    <tr>\n",
       "      <th>12月</th>\n",
       "      <td>20.7870</td>\n",
       "      <td>47.4887</td>\n",
       "    </tr>\n",
       "  </tbody>\n",
       "</table>\n",
       "</div>"
      ],
      "text/plain": [
       "       2020年    2021年\n",
       "月份                   \n",
       "1月    4.1478  15.5388\n",
       "2月    1.2431   9.7059\n",
       "3月    5.4619  18.5328\n",
       "4月    5.5870  16.1418\n",
       "5月    6.7363  18.7316\n",
       "6月    8.3278  22.9634\n",
       "7月    8.2568  22.2233\n",
       "8月    9.3297  24.9588\n",
       "9月   11.0416  33.3532\n",
       "10月  13.3145  31.7030\n",
       "11月  17.0363  37.8487\n",
       "12月  20.7870  47.4887"
      ]
     },
     "execution_count": 42,
     "metadata": {},
     "output_type": "execute_result"
    },
    {
     "data": {
      "text/plain": [
       "<AxesSubplot:>"
      ]
     },
     "execution_count": 42,
     "metadata": {},
     "output_type": "execute_result"
    },
    {
     "data": {
      "text/plain": [
       "Text(0.5, 1.0, '乘联会-新能源细分市场')"
      ]
     },
     "execution_count": 42,
     "metadata": {},
     "output_type": "execute_result"
    },
    {
     "data": {
      "text/plain": [
       "<matplotlib.legend.Legend at 0x20cb627e700>"
      ]
     },
     "execution_count": 42,
     "metadata": {},
     "output_type": "execute_result"
    },
    {
     "data": {
      "image/png": "[encoded data removed]",
      "text/plain": [
       "<Figure size 432x288 with 1 Axes>"
      ]
     },
     "metadata": {
      "needs_background": "light"
     },
     "output_type": "display_data"
    }
   ],
   "source": [
    "\n",
    "car_cpca_energy_sale_df = ak.car_cpca_energy_sale()\n",
    "car_cpca_energy_sale_df.set_index('月份')\n",
    "car_cpca_energy_sale_df.plot()\n",
    "\n",
    "plt.title(\"乘联会-新能源细分市场\")\n",
    "plt.legend()\n",
    "plt.show()"
   ]
  },
  {
   "cell_type": "markdown",
   "metadata": {},
   "source": [
    "### 11 - 查看数据类型\n",
    "\n",
    "查看 df1 各列的数据类型"
   ]
  },
  {
   "cell_type": "code",
   "execution_count": 20,
   "metadata": {},
   "outputs": [
    {
     "name": "stdout",
     "output_type": "stream",
     "text": [
      "<class 'pandas.core.frame.DataFrame'>\n",
      "RangeIndex: 1146 entries, 0 to 1145\n",
      "Data columns (total 11 columns):\n",
      " #   Column  Non-Null Count  Dtype  \n",
      "---  ------  --------------  -----  \n",
      " 0   日期      1146 non-null   object \n",
      " 1   开盘      1146 non-null   float64\n",
      " 2   收盘      1146 non-null   float64\n",
      " 3   最高      1146 non-null   float64\n",
      " 4   最低      1146 non-null   float64\n",
      " 5   成交量     1146 non-null   int64  \n",
      " 6   成交额     1146 non-null   int64  \n",
      " 7   振幅      1146 non-null   float64\n",
      " 8   涨跌幅     1146 non-null   float64\n",
      " 9   涨跌额     1146 non-null   float64\n",
      " 10  换手率     1146 non-null   float64\n",
      "dtypes: float64(8), int64(2), object(1)\n",
      "memory usage: 98.6+ KB\n"
     ]
    }
   ],
   "source": [
    "df1.info()"
   ]
  },
  {
   "cell_type": "markdown",
   "metadata": {},
   "source": [
    "### 12 - 时间类型转换\n",
    "\n",
    "将 df1 和 df2 的 日期 列转换为 pandas 支持的时间格式"
   ]
  },
  {
   "cell_type": "code",
   "execution_count": 30,
   "metadata": {},
   "outputs": [],
   "source": [
    "df1['日期'] = pd.to_datetime(df1['日期'])\n",
    "df2['时间'] = pd.to_datetime(df2['时间'])"
   ]
  },
  {
   "cell_type": "markdown",
   "metadata": {},
   "source": [
    "### 13 - 日期筛选｜区间\n",
    "\n",
    "筛选出 df2 时间在 `2021-08-03 09:35:00` 与 `2021-08-04 15:00:00` 之间的数据"
   ]
  },
  {
   "cell_type": "code",
   "execution_count": 31,
   "metadata": {},
   "outputs": [
    {
     "data": {
      "text/html": [
       "<div>\n",
       "<style scoped>\n",
       "    .dataframe tbody tr th:only-of-type {\n",
       "        vertical-align: middle;\n",
       "    }\n",
       "\n",
       "    .dataframe tbody tr th {\n",
       "        vertical-align: top;\n",
       "    }\n",
       "\n",
       "    .dataframe thead th {\n",
       "        text-align: right;\n",
       "    }\n",
       "</style>\n",
       "<table border=\"1\" class=\"dataframe\">\n",
       "  <thead>\n",
       "    <tr style=\"text-align: right;\">\n",
       "      <th></th>\n",
       "      <th>时间</th>\n",
       "      <th>开盘</th>\n",
       "      <th>收盘</th>\n",
       "      <th>最高</th>\n",
       "      <th>最低</th>\n",
       "      <th>涨跌幅</th>\n",
       "      <th>涨跌额</th>\n",
       "      <th>成交量</th>\n",
       "      <th>成交额</th>\n",
       "      <th>振幅</th>\n",
       "      <th>换手率</th>\n",
       "    </tr>\n",
       "  </thead>\n",
       "  <tbody>\n",
       "    <tr>\n",
       "      <th>1</th>\n",
       "      <td>2021-08-03 09:40:00</td>\n",
       "      <td>17.77</td>\n",
       "      <td>17.76</td>\n",
       "      <td>17.83</td>\n",
       "      <td>17.66</td>\n",
       "      <td>-0.11</td>\n",
       "      <td>-0.02</td>\n",
       "      <td>41508</td>\n",
       "      <td>73683531</td>\n",
       "      <td>0.96</td>\n",
       "      <td>0.02</td>\n",
       "    </tr>\n",
       "    <tr>\n",
       "      <th>2</th>\n",
       "      <td>2021-08-03 09:45:00</td>\n",
       "      <td>17.77</td>\n",
       "      <td>17.77</td>\n",
       "      <td>17.83</td>\n",
       "      <td>17.73</td>\n",
       "      <td>0.06</td>\n",
       "      <td>0.01</td>\n",
       "      <td>18521</td>\n",
       "      <td>32915794</td>\n",
       "      <td>0.56</td>\n",
       "      <td>0.01</td>\n",
       "    </tr>\n",
       "    <tr>\n",
       "      <th>3</th>\n",
       "      <td>2021-08-03 09:50:00</td>\n",
       "      <td>17.77</td>\n",
       "      <td>17.72</td>\n",
       "      <td>17.78</td>\n",
       "      <td>17.70</td>\n",
       "      <td>-0.28</td>\n",
       "      <td>-0.05</td>\n",
       "      <td>24424</td>\n",
       "      <td>43323693</td>\n",
       "      <td>0.45</td>\n",
       "      <td>0.01</td>\n",
       "    </tr>\n",
       "    <tr>\n",
       "      <th>4</th>\n",
       "      <td>2021-08-03 09:55:00</td>\n",
       "      <td>17.71</td>\n",
       "      <td>17.77</td>\n",
       "      <td>17.78</td>\n",
       "      <td>17.70</td>\n",
       "      <td>0.28</td>\n",
       "      <td>0.05</td>\n",
       "      <td>23197</td>\n",
       "      <td>41110937</td>\n",
       "      <td>0.45</td>\n",
       "      <td>0.01</td>\n",
       "    </tr>\n",
       "    <tr>\n",
       "      <th>5</th>\n",
       "      <td>2021-08-03 10:00:00</td>\n",
       "      <td>17.78</td>\n",
       "      <td>17.81</td>\n",
       "      <td>17.83</td>\n",
       "      <td>17.74</td>\n",
       "      <td>0.23</td>\n",
       "      <td>0.04</td>\n",
       "      <td>18111</td>\n",
       "      <td>32208076</td>\n",
       "      <td>0.51</td>\n",
       "      <td>0.01</td>\n",
       "    </tr>\n",
       "    <tr>\n",
       "      <th>...</th>\n",
       "      <td>...</td>\n",
       "      <td>...</td>\n",
       "      <td>...</td>\n",
       "      <td>...</td>\n",
       "      <td>...</td>\n",
       "      <td>...</td>\n",
       "      <td>...</td>\n",
       "      <td>...</td>\n",
       "      <td>...</td>\n",
       "      <td>...</td>\n",
       "      <td>...</td>\n",
       "    </tr>\n",
       "    <tr>\n",
       "      <th>90</th>\n",
       "      <td>2021-08-04 14:35:00</td>\n",
       "      <td>17.81</td>\n",
       "      <td>17.81</td>\n",
       "      <td>17.83</td>\n",
       "      <td>17.78</td>\n",
       "      <td>0.00</td>\n",
       "      <td>0.00</td>\n",
       "      <td>12903</td>\n",
       "      <td>22973276</td>\n",
       "      <td>0.28</td>\n",
       "      <td>0.01</td>\n",
       "    </tr>\n",
       "    <tr>\n",
       "      <th>91</th>\n",
       "      <td>2021-08-04 14:40:00</td>\n",
       "      <td>17.82</td>\n",
       "      <td>17.80</td>\n",
       "      <td>17.85</td>\n",
       "      <td>17.79</td>\n",
       "      <td>-0.06</td>\n",
       "      <td>-0.01</td>\n",
       "      <td>12254</td>\n",
       "      <td>21835743</td>\n",
       "      <td>0.34</td>\n",
       "      <td>0.01</td>\n",
       "    </tr>\n",
       "    <tr>\n",
       "      <th>92</th>\n",
       "      <td>2021-08-04 14:45:00</td>\n",
       "      <td>17.82</td>\n",
       "      <td>17.82</td>\n",
       "      <td>17.84</td>\n",
       "      <td>17.80</td>\n",
       "      <td>0.11</td>\n",
       "      <td>0.02</td>\n",
       "      <td>9893</td>\n",
       "      <td>17631076</td>\n",
       "      <td>0.22</td>\n",
       "      <td>0.01</td>\n",
       "    </tr>\n",
       "    <tr>\n",
       "      <th>93</th>\n",
       "      <td>2021-08-04 14:50:00</td>\n",
       "      <td>17.81</td>\n",
       "      <td>17.80</td>\n",
       "      <td>17.83</td>\n",
       "      <td>17.80</td>\n",
       "      <td>-0.11</td>\n",
       "      <td>-0.02</td>\n",
       "      <td>12127</td>\n",
       "      <td>21603534</td>\n",
       "      <td>0.17</td>\n",
       "      <td>0.01</td>\n",
       "    </tr>\n",
       "    <tr>\n",
       "      <th>94</th>\n",
       "      <td>2021-08-04 14:55:00</td>\n",
       "      <td>17.80</td>\n",
       "      <td>17.81</td>\n",
       "      <td>17.84</td>\n",
       "      <td>17.79</td>\n",
       "      <td>0.06</td>\n",
       "      <td>0.01</td>\n",
       "      <td>17028</td>\n",
       "      <td>30332096</td>\n",
       "      <td>0.28</td>\n",
       "      <td>0.01</td>\n",
       "    </tr>\n",
       "  </tbody>\n",
       "</table>\n",
       "<p>94 rows × 11 columns</p>\n",
       "</div>"
      ],
      "text/plain": [
       "                    时间     开盘     收盘     最高     最低   涨跌幅   涨跌额    成交量  \\\n",
       "1  2021-08-03 09:40:00  17.77  17.76  17.83  17.66 -0.11 -0.02  41508   \n",
       "2  2021-08-03 09:45:00  17.77  17.77  17.83  17.73  0.06  0.01  18521   \n",
       "3  2021-08-03 09:50:00  17.77  17.72  17.78  17.70 -0.28 -0.05  24424   \n",
       "4  2021-08-03 09:55:00  17.71  17.77  17.78  17.70  0.28  0.05  23197   \n",
       "5  2021-08-03 10:00:00  17.78  17.81  17.83  17.74  0.23  0.04  18111   \n",
       "..                 ...    ...    ...    ...    ...   ...   ...    ...   \n",
       "90 2021-08-04 14:35:00  17.81  17.81  17.83  17.78  0.00  0.00  12903   \n",
       "91 2021-08-04 14:40:00  17.82  17.80  17.85  17.79 -0.06 -0.01  12254   \n",
       "92 2021-08-04 14:45:00  17.82  17.82  17.84  17.80  0.11  0.02   9893   \n",
       "93 2021-08-04 14:50:00  17.81  17.80  17.83  17.80 -0.11 -0.02  12127   \n",
       "94 2021-08-04 14:55:00  17.80  17.81  17.84  17.79  0.06  0.01  17028   \n",
       "\n",
       "         成交额    振幅   换手率  \n",
       "1   73683531  0.96  0.02  \n",
       "2   32915794  0.56  0.01  \n",
       "3   43323693  0.45  0.01  \n",
       "4   41110937  0.45  0.01  \n",
       "5   32208076  0.51  0.01  \n",
       "..       ...   ...   ...  \n",
       "90  22973276  0.28  0.01  \n",
       "91  21835743  0.34  0.01  \n",
       "92  17631076  0.22  0.01  \n",
       "93  21603534  0.17  0.01  \n",
       "94  30332096  0.28  0.01  \n",
       "\n",
       "[94 rows x 11 columns]"
      ]
     },
     "execution_count": 31,
     "metadata": {},
     "output_type": "execute_result"
    }
   ],
   "source": [
    "df2[(df2['时间'] > '2021-08-03 09:35:00') & (df2['时间'] < '2021-08-04 15:00:00')]"
   ]
  },
  {
   "cell_type": "markdown",
   "metadata": {},
   "source": [
    "![公众号：早起Python](http://liuzaoqi.oss-cn-beijing.aliyuncs.com/2021/09/18/16319660121648.jpg?域名/sample.jpg?x-oss-process=style/stylename)"
   ]
  },
  {
   "cell_type": "markdown",
   "metadata": {},
   "source": [
    "### 14 - 日期筛选｜指定\n",
    "\n",
    "筛选 df2 时间为 2021-08-03 的全部数据"
   ]
  },
  {
   "cell_type": "code",
   "execution_count": 32,
   "metadata": {},
   "outputs": [
    {
     "data": {
      "text/html": [
       "<div>\n",
       "<style scoped>\n",
       "    .dataframe tbody tr th:only-of-type {\n",
       "        vertical-align: middle;\n",
       "    }\n",
       "\n",
       "    .dataframe tbody tr th {\n",
       "        vertical-align: top;\n",
       "    }\n",
       "\n",
       "    .dataframe thead th {\n",
       "        text-align: right;\n",
       "    }\n",
       "</style>\n",
       "<table border=\"1\" class=\"dataframe\">\n",
       "  <thead>\n",
       "    <tr style=\"text-align: right;\">\n",
       "      <th></th>\n",
       "      <th>开盘</th>\n",
       "      <th>收盘</th>\n",
       "      <th>最高</th>\n",
       "      <th>最低</th>\n",
       "      <th>涨跌幅</th>\n",
       "      <th>涨跌额</th>\n",
       "      <th>成交量</th>\n",
       "      <th>成交额</th>\n",
       "      <th>振幅</th>\n",
       "      <th>换手率</th>\n",
       "    </tr>\n",
       "    <tr>\n",
       "      <th>时间</th>\n",
       "      <th></th>\n",
       "      <th></th>\n",
       "      <th></th>\n",
       "      <th></th>\n",
       "      <th></th>\n",
       "      <th></th>\n",
       "      <th></th>\n",
       "      <th></th>\n",
       "      <th></th>\n",
       "      <th></th>\n",
       "    </tr>\n",
       "  </thead>\n",
       "  <tbody>\n",
       "    <tr>\n",
       "      <th>2021-08-03 09:35:00</th>\n",
       "      <td>17.99</td>\n",
       "      <td>17.78</td>\n",
       "      <td>18.02</td>\n",
       "      <td>17.75</td>\n",
       "      <td>-1.28</td>\n",
       "      <td>-0.23</td>\n",
       "      <td>52807</td>\n",
       "      <td>94339287</td>\n",
       "      <td>1.50</td>\n",
       "      <td>0.03</td>\n",
       "    </tr>\n",
       "    <tr>\n",
       "      <th>2021-08-03 09:40:00</th>\n",
       "      <td>17.77</td>\n",
       "      <td>17.76</td>\n",
       "      <td>17.83</td>\n",
       "      <td>17.66</td>\n",
       "      <td>-0.11</td>\n",
       "      <td>-0.02</td>\n",
       "      <td>41508</td>\n",
       "      <td>73683531</td>\n",
       "      <td>0.96</td>\n",
       "      <td>0.02</td>\n",
       "    </tr>\n",
       "    <tr>\n",
       "      <th>2021-08-03 09:45:00</th>\n",
       "      <td>17.77</td>\n",
       "      <td>17.77</td>\n",
       "      <td>17.83</td>\n",
       "      <td>17.73</td>\n",
       "      <td>0.06</td>\n",
       "      <td>0.01</td>\n",
       "      <td>18521</td>\n",
       "      <td>32915794</td>\n",
       "      <td>0.56</td>\n",
       "      <td>0.01</td>\n",
       "    </tr>\n",
       "    <tr>\n",
       "      <th>2021-08-03 09:50:00</th>\n",
       "      <td>17.77</td>\n",
       "      <td>17.72</td>\n",
       "      <td>17.78</td>\n",
       "      <td>17.70</td>\n",
       "      <td>-0.28</td>\n",
       "      <td>-0.05</td>\n",
       "      <td>24424</td>\n",
       "      <td>43323693</td>\n",
       "      <td>0.45</td>\n",
       "      <td>0.01</td>\n",
       "    </tr>\n",
       "    <tr>\n",
       "      <th>2021-08-03 09:55:00</th>\n",
       "      <td>17.71</td>\n",
       "      <td>17.77</td>\n",
       "      <td>17.78</td>\n",
       "      <td>17.70</td>\n",
       "      <td>0.28</td>\n",
       "      <td>0.05</td>\n",
       "      <td>23197</td>\n",
       "      <td>41110937</td>\n",
       "      <td>0.45</td>\n",
       "      <td>0.01</td>\n",
       "    </tr>\n",
       "    <tr>\n",
       "      <th>...</th>\n",
       "      <td>...</td>\n",
       "      <td>...</td>\n",
       "      <td>...</td>\n",
       "      <td>...</td>\n",
       "      <td>...</td>\n",
       "      <td>...</td>\n",
       "      <td>...</td>\n",
       "      <td>...</td>\n",
       "      <td>...</td>\n",
       "      <td>...</td>\n",
       "    </tr>\n",
       "    <tr>\n",
       "      <th>2021-09-13 14:40:00</th>\n",
       "      <td>20.15</td>\n",
       "      <td>20.17</td>\n",
       "      <td>20.21</td>\n",
       "      <td>20.13</td>\n",
       "      <td>0.05</td>\n",
       "      <td>0.01</td>\n",
       "      <td>16093</td>\n",
       "      <td>32451916</td>\n",
       "      <td>0.40</td>\n",
       "      <td>0.01</td>\n",
       "    </tr>\n",
       "    <tr>\n",
       "      <th>2021-09-13 14:45:00</th>\n",
       "      <td>20.18</td>\n",
       "      <td>20.21</td>\n",
       "      <td>20.21</td>\n",
       "      <td>20.13</td>\n",
       "      <td>0.20</td>\n",
       "      <td>0.04</td>\n",
       "      <td>16191</td>\n",
       "      <td>32677812</td>\n",
       "      <td>0.40</td>\n",
       "      <td>0.01</td>\n",
       "    </tr>\n",
       "    <tr>\n",
       "      <th>2021-09-13 14:50:00</th>\n",
       "      <td>20.22</td>\n",
       "      <td>20.21</td>\n",
       "      <td>20.26</td>\n",
       "      <td>20.18</td>\n",
       "      <td>0.00</td>\n",
       "      <td>0.00</td>\n",
       "      <td>24419</td>\n",
       "      <td>49373556</td>\n",
       "      <td>0.40</td>\n",
       "      <td>0.01</td>\n",
       "    </tr>\n",
       "    <tr>\n",
       "      <th>2021-09-13 14:55:00</th>\n",
       "      <td>20.21</td>\n",
       "      <td>20.20</td>\n",
       "      <td>20.23</td>\n",
       "      <td>20.19</td>\n",
       "      <td>-0.05</td>\n",
       "      <td>-0.01</td>\n",
       "      <td>20769</td>\n",
       "      <td>41974013</td>\n",
       "      <td>0.20</td>\n",
       "      <td>0.01</td>\n",
       "    </tr>\n",
       "    <tr>\n",
       "      <th>2021-09-13 15:00:00</th>\n",
       "      <td>20.20</td>\n",
       "      <td>20.21</td>\n",
       "      <td>20.22</td>\n",
       "      <td>20.19</td>\n",
       "      <td>0.05</td>\n",
       "      <td>0.01</td>\n",
       "      <td>17593</td>\n",
       "      <td>35555623</td>\n",
       "      <td>0.15</td>\n",
       "      <td>0.01</td>\n",
       "    </tr>\n",
       "  </tbody>\n",
       "</table>\n",
       "<p>1440 rows × 10 columns</p>\n",
       "</div>"
      ],
      "text/plain": [
       "                        开盘     收盘     最高     最低   涨跌幅   涨跌额    成交量       成交额  \\\n",
       "时间                                                                             \n",
       "2021-08-03 09:35:00  17.99  17.78  18.02  17.75 -1.28 -0.23  52807  94339287   \n",
       "2021-08-03 09:40:00  17.77  17.76  17.83  17.66 -0.11 -0.02  41508  73683531   \n",
       "2021-08-03 09:45:00  17.77  17.77  17.83  17.73  0.06  0.01  18521  32915794   \n",
       "2021-08-03 09:50:00  17.77  17.72  17.78  17.70 -0.28 -0.05  24424  43323693   \n",
       "2021-08-03 09:55:00  17.71  17.77  17.78  17.70  0.28  0.05  23197  41110937   \n",
       "...                    ...    ...    ...    ...   ...   ...    ...       ...   \n",
       "2021-09-13 14:40:00  20.15  20.17  20.21  20.13  0.05  0.01  16093  32451916   \n",
       "2021-09-13 14:45:00  20.18  20.21  20.21  20.13  0.20  0.04  16191  32677812   \n",
       "2021-09-13 14:50:00  20.22  20.21  20.26  20.18  0.00  0.00  24419  49373556   \n",
       "2021-09-13 14:55:00  20.21  20.20  20.23  20.19 -0.05 -0.01  20769  41974013   \n",
       "2021-09-13 15:00:00  20.20  20.21  20.22  20.19  0.05  0.01  17593  35555623   \n",
       "\n",
       "                       振幅   换手率  \n",
       "时间                               \n",
       "2021-08-03 09:35:00  1.50  0.03  \n",
       "2021-08-03 09:40:00  0.96  0.02  \n",
       "2021-08-03 09:45:00  0.56  0.01  \n",
       "2021-08-03 09:50:00  0.45  0.01  \n",
       "2021-08-03 09:55:00  0.45  0.01  \n",
       "...                   ...   ...  \n",
       "2021-09-13 14:40:00  0.40  0.01  \n",
       "2021-09-13 14:45:00  0.40  0.01  \n",
       "2021-09-13 14:50:00  0.40  0.01  \n",
       "2021-09-13 14:55:00  0.20  0.01  \n",
       "2021-09-13 15:00:00  0.15  0.01  \n",
       "\n",
       "[1440 rows x 10 columns]"
      ]
     },
     "execution_count": 32,
     "metadata": {},
     "output_type": "execute_result"
    }
   ],
   "source": [
    "df2.set_index('时间').truncate(after=pd.Timestamp('2021-08-04'))\n",
    "df2\n",
    "# ."
   ]
  },
  {
   "cell_type": "code",
   "execution_count": 33,
   "metadata": {},
   "outputs": [
    {
     "data": {
      "text/html": [
       "<div>\n",
       "<style scoped>\n",
       "    .dataframe tbody tr th:only-of-type {\n",
       "        vertical-align: middle;\n",
       "    }\n",
       "\n",
       "    .dataframe tbody tr th {\n",
       "        vertical-align: top;\n",
       "    }\n",
       "\n",
       "    .dataframe thead th {\n",
       "        text-align: right;\n",
       "    }\n",
       "</style>\n",
       "<table border=\"1\" class=\"dataframe\">\n",
       "  <thead>\n",
       "    <tr style=\"text-align: right;\">\n",
       "      <th></th>\n",
       "      <th>开盘</th>\n",
       "      <th>收盘</th>\n",
       "      <th>最高</th>\n",
       "      <th>最低</th>\n",
       "      <th>涨跌幅</th>\n",
       "      <th>涨跌额</th>\n",
       "      <th>成交量</th>\n",
       "      <th>成交额</th>\n",
       "      <th>振幅</th>\n",
       "      <th>换手率</th>\n",
       "    </tr>\n",
       "    <tr>\n",
       "      <th>时间</th>\n",
       "      <th></th>\n",
       "      <th></th>\n",
       "      <th></th>\n",
       "      <th></th>\n",
       "      <th></th>\n",
       "      <th></th>\n",
       "      <th></th>\n",
       "      <th></th>\n",
       "      <th></th>\n",
       "      <th></th>\n",
       "    </tr>\n",
       "  </thead>\n",
       "  <tbody>\n",
       "    <tr>\n",
       "      <th>2021-08-03 09:35:00</th>\n",
       "      <td>17.99</td>\n",
       "      <td>17.78</td>\n",
       "      <td>18.02</td>\n",
       "      <td>17.75</td>\n",
       "      <td>-1.28</td>\n",
       "      <td>-0.23</td>\n",
       "      <td>52807</td>\n",
       "      <td>94339287</td>\n",
       "      <td>1.50</td>\n",
       "      <td>0.03</td>\n",
       "    </tr>\n",
       "    <tr>\n",
       "      <th>2021-08-03 09:40:00</th>\n",
       "      <td>17.77</td>\n",
       "      <td>17.76</td>\n",
       "      <td>17.83</td>\n",
       "      <td>17.66</td>\n",
       "      <td>-0.11</td>\n",
       "      <td>-0.02</td>\n",
       "      <td>41508</td>\n",
       "      <td>73683531</td>\n",
       "      <td>0.96</td>\n",
       "      <td>0.02</td>\n",
       "    </tr>\n",
       "    <tr>\n",
       "      <th>2021-08-03 09:45:00</th>\n",
       "      <td>17.77</td>\n",
       "      <td>17.77</td>\n",
       "      <td>17.83</td>\n",
       "      <td>17.73</td>\n",
       "      <td>0.06</td>\n",
       "      <td>0.01</td>\n",
       "      <td>18521</td>\n",
       "      <td>32915794</td>\n",
       "      <td>0.56</td>\n",
       "      <td>0.01</td>\n",
       "    </tr>\n",
       "    <tr>\n",
       "      <th>2021-08-03 09:50:00</th>\n",
       "      <td>17.77</td>\n",
       "      <td>17.72</td>\n",
       "      <td>17.78</td>\n",
       "      <td>17.70</td>\n",
       "      <td>-0.28</td>\n",
       "      <td>-0.05</td>\n",
       "      <td>24424</td>\n",
       "      <td>43323693</td>\n",
       "      <td>0.45</td>\n",
       "      <td>0.01</td>\n",
       "    </tr>\n",
       "    <tr>\n",
       "      <th>2021-08-03 09:55:00</th>\n",
       "      <td>17.71</td>\n",
       "      <td>17.77</td>\n",
       "      <td>17.78</td>\n",
       "      <td>17.70</td>\n",
       "      <td>0.28</td>\n",
       "      <td>0.05</td>\n",
       "      <td>23197</td>\n",
       "      <td>41110937</td>\n",
       "      <td>0.45</td>\n",
       "      <td>0.01</td>\n",
       "    </tr>\n",
       "    <tr>\n",
       "      <th>2021-08-03 10:00:00</th>\n",
       "      <td>17.78</td>\n",
       "      <td>17.81</td>\n",
       "      <td>17.83</td>\n",
       "      <td>17.74</td>\n",
       "      <td>0.23</td>\n",
       "      <td>0.04</td>\n",
       "      <td>18111</td>\n",
       "      <td>32208076</td>\n",
       "      <td>0.51</td>\n",
       "      <td>0.01</td>\n",
       "    </tr>\n",
       "    <tr>\n",
       "      <th>2021-08-03 10:05:00</th>\n",
       "      <td>17.83</td>\n",
       "      <td>17.84</td>\n",
       "      <td>17.91</td>\n",
       "      <td>17.79</td>\n",
       "      <td>0.17</td>\n",
       "      <td>0.03</td>\n",
       "      <td>28273</td>\n",
       "      <td>50498772</td>\n",
       "      <td>0.67</td>\n",
       "      <td>0.01</td>\n",
       "    </tr>\n",
       "    <tr>\n",
       "      <th>2021-08-03 10:10:00</th>\n",
       "      <td>17.84</td>\n",
       "      <td>18.01</td>\n",
       "      <td>18.01</td>\n",
       "      <td>17.83</td>\n",
       "      <td>0.95</td>\n",
       "      <td>0.17</td>\n",
       "      <td>37675</td>\n",
       "      <td>67585497</td>\n",
       "      <td>1.01</td>\n",
       "      <td>0.02</td>\n",
       "    </tr>\n",
       "    <tr>\n",
       "      <th>2021-08-03 10:15:00</th>\n",
       "      <td>18.01</td>\n",
       "      <td>18.05</td>\n",
       "      <td>18.09</td>\n",
       "      <td>18.01</td>\n",
       "      <td>0.22</td>\n",
       "      <td>0.04</td>\n",
       "      <td>31315</td>\n",
       "      <td>56528108</td>\n",
       "      <td>0.44</td>\n",
       "      <td>0.02</td>\n",
       "    </tr>\n",
       "    <tr>\n",
       "      <th>2021-08-03 10:20:00</th>\n",
       "      <td>18.04</td>\n",
       "      <td>18.00</td>\n",
       "      <td>18.07</td>\n",
       "      <td>17.98</td>\n",
       "      <td>-0.28</td>\n",
       "      <td>-0.05</td>\n",
       "      <td>25998</td>\n",
       "      <td>46873326</td>\n",
       "      <td>0.50</td>\n",
       "      <td>0.01</td>\n",
       "    </tr>\n",
       "    <tr>\n",
       "      <th>2021-08-03 10:25:00</th>\n",
       "      <td>18.01</td>\n",
       "      <td>17.99</td>\n",
       "      <td>18.03</td>\n",
       "      <td>17.98</td>\n",
       "      <td>-0.06</td>\n",
       "      <td>-0.01</td>\n",
       "      <td>19840</td>\n",
       "      <td>35724912</td>\n",
       "      <td>0.28</td>\n",
       "      <td>0.01</td>\n",
       "    </tr>\n",
       "    <tr>\n",
       "      <th>2021-08-03 10:30:00</th>\n",
       "      <td>17.99</td>\n",
       "      <td>17.89</td>\n",
       "      <td>18.00</td>\n",
       "      <td>17.89</td>\n",
       "      <td>-0.56</td>\n",
       "      <td>-0.10</td>\n",
       "      <td>22437</td>\n",
       "      <td>40295707</td>\n",
       "      <td>0.61</td>\n",
       "      <td>0.01</td>\n",
       "    </tr>\n",
       "    <tr>\n",
       "      <th>2021-08-03 10:35:00</th>\n",
       "      <td>17.89</td>\n",
       "      <td>17.96</td>\n",
       "      <td>17.97</td>\n",
       "      <td>17.89</td>\n",
       "      <td>0.39</td>\n",
       "      <td>0.07</td>\n",
       "      <td>16344</td>\n",
       "      <td>29302241</td>\n",
       "      <td>0.45</td>\n",
       "      <td>0.01</td>\n",
       "    </tr>\n",
       "    <tr>\n",
       "      <th>2021-08-03 10:40:00</th>\n",
       "      <td>17.97</td>\n",
       "      <td>17.94</td>\n",
       "      <td>17.98</td>\n",
       "      <td>17.94</td>\n",
       "      <td>-0.11</td>\n",
       "      <td>-0.02</td>\n",
       "      <td>13929</td>\n",
       "      <td>25017058</td>\n",
       "      <td>0.22</td>\n",
       "      <td>0.01</td>\n",
       "    </tr>\n",
       "    <tr>\n",
       "      <th>2021-08-03 10:45:00</th>\n",
       "      <td>17.94</td>\n",
       "      <td>17.99</td>\n",
       "      <td>18.04</td>\n",
       "      <td>17.90</td>\n",
       "      <td>0.28</td>\n",
       "      <td>0.05</td>\n",
       "      <td>20556</td>\n",
       "      <td>36934160</td>\n",
       "      <td>0.78</td>\n",
       "      <td>0.01</td>\n",
       "    </tr>\n",
       "    <tr>\n",
       "      <th>2021-08-03 10:50:00</th>\n",
       "      <td>18.00</td>\n",
       "      <td>18.11</td>\n",
       "      <td>18.11</td>\n",
       "      <td>17.99</td>\n",
       "      <td>0.67</td>\n",
       "      <td>0.12</td>\n",
       "      <td>24688</td>\n",
       "      <td>44603411</td>\n",
       "      <td>0.67</td>\n",
       "      <td>0.01</td>\n",
       "    </tr>\n",
       "    <tr>\n",
       "      <th>2021-08-03 10:55:00</th>\n",
       "      <td>18.11</td>\n",
       "      <td>18.01</td>\n",
       "      <td>18.15</td>\n",
       "      <td>18.01</td>\n",
       "      <td>-0.55</td>\n",
       "      <td>-0.10</td>\n",
       "      <td>23020</td>\n",
       "      <td>41643532</td>\n",
       "      <td>0.77</td>\n",
       "      <td>0.01</td>\n",
       "    </tr>\n",
       "    <tr>\n",
       "      <th>2021-08-03 11:00:00</th>\n",
       "      <td>18.01</td>\n",
       "      <td>18.03</td>\n",
       "      <td>18.05</td>\n",
       "      <td>17.99</td>\n",
       "      <td>0.11</td>\n",
       "      <td>0.02</td>\n",
       "      <td>12102</td>\n",
       "      <td>21795475</td>\n",
       "      <td>0.33</td>\n",
       "      <td>0.01</td>\n",
       "    </tr>\n",
       "    <tr>\n",
       "      <th>2021-08-03 11:05:00</th>\n",
       "      <td>18.04</td>\n",
       "      <td>18.03</td>\n",
       "      <td>18.05</td>\n",
       "      <td>18.00</td>\n",
       "      <td>0.00</td>\n",
       "      <td>0.00</td>\n",
       "      <td>17303</td>\n",
       "      <td>31197226</td>\n",
       "      <td>0.28</td>\n",
       "      <td>0.01</td>\n",
       "    </tr>\n",
       "    <tr>\n",
       "      <th>2021-08-03 11:10:00</th>\n",
       "      <td>18.03</td>\n",
       "      <td>18.02</td>\n",
       "      <td>18.04</td>\n",
       "      <td>18.00</td>\n",
       "      <td>-0.06</td>\n",
       "      <td>-0.01</td>\n",
       "      <td>12736</td>\n",
       "      <td>22940014</td>\n",
       "      <td>0.22</td>\n",
       "      <td>0.01</td>\n",
       "    </tr>\n",
       "    <tr>\n",
       "      <th>2021-08-03 11:15:00</th>\n",
       "      <td>18.03</td>\n",
       "      <td>18.00</td>\n",
       "      <td>18.03</td>\n",
       "      <td>18.00</td>\n",
       "      <td>-0.11</td>\n",
       "      <td>-0.02</td>\n",
       "      <td>12273</td>\n",
       "      <td>22104969</td>\n",
       "      <td>0.17</td>\n",
       "      <td>0.01</td>\n",
       "    </tr>\n",
       "    <tr>\n",
       "      <th>2021-08-03 11:20:00</th>\n",
       "      <td>18.02</td>\n",
       "      <td>18.07</td>\n",
       "      <td>18.10</td>\n",
       "      <td>18.01</td>\n",
       "      <td>0.39</td>\n",
       "      <td>0.07</td>\n",
       "      <td>20951</td>\n",
       "      <td>37844518</td>\n",
       "      <td>0.50</td>\n",
       "      <td>0.01</td>\n",
       "    </tr>\n",
       "    <tr>\n",
       "      <th>2021-08-03 11:25:00</th>\n",
       "      <td>18.08</td>\n",
       "      <td>18.02</td>\n",
       "      <td>18.09</td>\n",
       "      <td>18.01</td>\n",
       "      <td>-0.28</td>\n",
       "      <td>-0.05</td>\n",
       "      <td>15905</td>\n",
       "      <td>28711245</td>\n",
       "      <td>0.44</td>\n",
       "      <td>0.01</td>\n",
       "    </tr>\n",
       "    <tr>\n",
       "      <th>2021-08-03 11:30:00</th>\n",
       "      <td>18.02</td>\n",
       "      <td>18.02</td>\n",
       "      <td>18.05</td>\n",
       "      <td>18.00</td>\n",
       "      <td>0.00</td>\n",
       "      <td>0.00</td>\n",
       "      <td>13814</td>\n",
       "      <td>24893817</td>\n",
       "      <td>0.28</td>\n",
       "      <td>0.01</td>\n",
       "    </tr>\n",
       "    <tr>\n",
       "      <th>2021-08-03 13:05:00</th>\n",
       "      <td>18.02</td>\n",
       "      <td>18.01</td>\n",
       "      <td>18.04</td>\n",
       "      <td>18.00</td>\n",
       "      <td>-0.06</td>\n",
       "      <td>-0.01</td>\n",
       "      <td>16530</td>\n",
       "      <td>29783440</td>\n",
       "      <td>0.22</td>\n",
       "      <td>0.01</td>\n",
       "    </tr>\n",
       "    <tr>\n",
       "      <th>2021-08-03 13:10:00</th>\n",
       "      <td>18.01</td>\n",
       "      <td>18.04</td>\n",
       "      <td>18.07</td>\n",
       "      <td>18.01</td>\n",
       "      <td>0.17</td>\n",
       "      <td>0.03</td>\n",
       "      <td>14666</td>\n",
       "      <td>26464258</td>\n",
       "      <td>0.33</td>\n",
       "      <td>0.01</td>\n",
       "    </tr>\n",
       "    <tr>\n",
       "      <th>2021-08-03 13:15:00</th>\n",
       "      <td>18.04</td>\n",
       "      <td>17.99</td>\n",
       "      <td>18.05</td>\n",
       "      <td>17.99</td>\n",
       "      <td>-0.28</td>\n",
       "      <td>-0.05</td>\n",
       "      <td>13880</td>\n",
       "      <td>25011176</td>\n",
       "      <td>0.33</td>\n",
       "      <td>0.01</td>\n",
       "    </tr>\n",
       "    <tr>\n",
       "      <th>2021-08-03 13:20:00</th>\n",
       "      <td>17.99</td>\n",
       "      <td>17.98</td>\n",
       "      <td>18.02</td>\n",
       "      <td>17.98</td>\n",
       "      <td>-0.06</td>\n",
       "      <td>-0.01</td>\n",
       "      <td>13451</td>\n",
       "      <td>24208140</td>\n",
       "      <td>0.22</td>\n",
       "      <td>0.01</td>\n",
       "    </tr>\n",
       "    <tr>\n",
       "      <th>2021-08-03 13:25:00</th>\n",
       "      <td>17.98</td>\n",
       "      <td>18.00</td>\n",
       "      <td>18.01</td>\n",
       "      <td>17.97</td>\n",
       "      <td>0.11</td>\n",
       "      <td>0.02</td>\n",
       "      <td>14024</td>\n",
       "      <td>25229291</td>\n",
       "      <td>0.22</td>\n",
       "      <td>0.01</td>\n",
       "    </tr>\n",
       "    <tr>\n",
       "      <th>2021-08-03 13:30:00</th>\n",
       "      <td>18.00</td>\n",
       "      <td>18.01</td>\n",
       "      <td>18.05</td>\n",
       "      <td>17.99</td>\n",
       "      <td>0.06</td>\n",
       "      <td>0.01</td>\n",
       "      <td>15333</td>\n",
       "      <td>27633217</td>\n",
       "      <td>0.33</td>\n",
       "      <td>0.01</td>\n",
       "    </tr>\n",
       "    <tr>\n",
       "      <th>2021-08-03 13:35:00</th>\n",
       "      <td>18.01</td>\n",
       "      <td>18.00</td>\n",
       "      <td>18.03</td>\n",
       "      <td>17.98</td>\n",
       "      <td>-0.06</td>\n",
       "      <td>-0.01</td>\n",
       "      <td>16424</td>\n",
       "      <td>29582866</td>\n",
       "      <td>0.28</td>\n",
       "      <td>0.01</td>\n",
       "    </tr>\n",
       "    <tr>\n",
       "      <th>2021-08-03 13:40:00</th>\n",
       "      <td>18.00</td>\n",
       "      <td>17.99</td>\n",
       "      <td>18.02</td>\n",
       "      <td>17.98</td>\n",
       "      <td>-0.06</td>\n",
       "      <td>-0.01</td>\n",
       "      <td>14696</td>\n",
       "      <td>26452384</td>\n",
       "      <td>0.22</td>\n",
       "      <td>0.01</td>\n",
       "    </tr>\n",
       "    <tr>\n",
       "      <th>2021-08-03 13:45:00</th>\n",
       "      <td>18.00</td>\n",
       "      <td>17.99</td>\n",
       "      <td>18.02</td>\n",
       "      <td>17.98</td>\n",
       "      <td>0.00</td>\n",
       "      <td>0.00</td>\n",
       "      <td>14632</td>\n",
       "      <td>26334531</td>\n",
       "      <td>0.22</td>\n",
       "      <td>0.01</td>\n",
       "    </tr>\n",
       "    <tr>\n",
       "      <th>2021-08-03 13:50:00</th>\n",
       "      <td>18.01</td>\n",
       "      <td>17.99</td>\n",
       "      <td>18.01</td>\n",
       "      <td>17.98</td>\n",
       "      <td>0.00</td>\n",
       "      <td>0.00</td>\n",
       "      <td>11746</td>\n",
       "      <td>21134264</td>\n",
       "      <td>0.17</td>\n",
       "      <td>0.01</td>\n",
       "    </tr>\n",
       "    <tr>\n",
       "      <th>2021-08-03 13:55:00</th>\n",
       "      <td>17.98</td>\n",
       "      <td>17.94</td>\n",
       "      <td>18.00</td>\n",
       "      <td>17.92</td>\n",
       "      <td>-0.28</td>\n",
       "      <td>-0.05</td>\n",
       "      <td>17023</td>\n",
       "      <td>30591848</td>\n",
       "      <td>0.44</td>\n",
       "      <td>0.01</td>\n",
       "    </tr>\n",
       "    <tr>\n",
       "      <th>2021-08-03 14:00:00</th>\n",
       "      <td>17.93</td>\n",
       "      <td>17.95</td>\n",
       "      <td>17.96</td>\n",
       "      <td>17.93</td>\n",
       "      <td>0.06</td>\n",
       "      <td>0.01</td>\n",
       "      <td>8906</td>\n",
       "      <td>15983206</td>\n",
       "      <td>0.17</td>\n",
       "      <td>0.00</td>\n",
       "    </tr>\n",
       "    <tr>\n",
       "      <th>2021-08-03 14:05:00</th>\n",
       "      <td>17.95</td>\n",
       "      <td>17.94</td>\n",
       "      <td>17.96</td>\n",
       "      <td>17.93</td>\n",
       "      <td>-0.06</td>\n",
       "      <td>-0.01</td>\n",
       "      <td>9690</td>\n",
       "      <td>17392582</td>\n",
       "      <td>0.17</td>\n",
       "      <td>0.00</td>\n",
       "    </tr>\n",
       "    <tr>\n",
       "      <th>2021-08-03 14:10:00</th>\n",
       "      <td>17.95</td>\n",
       "      <td>17.93</td>\n",
       "      <td>17.96</td>\n",
       "      <td>17.93</td>\n",
       "      <td>-0.06</td>\n",
       "      <td>-0.01</td>\n",
       "      <td>10427</td>\n",
       "      <td>18707878</td>\n",
       "      <td>0.17</td>\n",
       "      <td>0.01</td>\n",
       "    </tr>\n",
       "    <tr>\n",
       "      <th>2021-08-03 14:15:00</th>\n",
       "      <td>17.93</td>\n",
       "      <td>17.92</td>\n",
       "      <td>17.96</td>\n",
       "      <td>17.92</td>\n",
       "      <td>-0.06</td>\n",
       "      <td>-0.01</td>\n",
       "      <td>10498</td>\n",
       "      <td>18828673</td>\n",
       "      <td>0.22</td>\n",
       "      <td>0.01</td>\n",
       "    </tr>\n",
       "    <tr>\n",
       "      <th>2021-08-03 14:20:00</th>\n",
       "      <td>17.93</td>\n",
       "      <td>17.92</td>\n",
       "      <td>17.94</td>\n",
       "      <td>17.91</td>\n",
       "      <td>0.00</td>\n",
       "      <td>0.00</td>\n",
       "      <td>16589</td>\n",
       "      <td>29733764</td>\n",
       "      <td>0.17</td>\n",
       "      <td>0.01</td>\n",
       "    </tr>\n",
       "    <tr>\n",
       "      <th>2021-08-03 14:25:00</th>\n",
       "      <td>17.91</td>\n",
       "      <td>17.93</td>\n",
       "      <td>17.94</td>\n",
       "      <td>17.90</td>\n",
       "      <td>0.06</td>\n",
       "      <td>0.01</td>\n",
       "      <td>17581</td>\n",
       "      <td>31496394</td>\n",
       "      <td>0.22</td>\n",
       "      <td>0.01</td>\n",
       "    </tr>\n",
       "    <tr>\n",
       "      <th>2021-08-03 14:30:00</th>\n",
       "      <td>17.92</td>\n",
       "      <td>17.94</td>\n",
       "      <td>17.96</td>\n",
       "      <td>17.91</td>\n",
       "      <td>0.06</td>\n",
       "      <td>0.01</td>\n",
       "      <td>12845</td>\n",
       "      <td>23035897</td>\n",
       "      <td>0.28</td>\n",
       "      <td>0.01</td>\n",
       "    </tr>\n",
       "    <tr>\n",
       "      <th>2021-08-03 14:35:00</th>\n",
       "      <td>17.94</td>\n",
       "      <td>17.93</td>\n",
       "      <td>17.94</td>\n",
       "      <td>17.90</td>\n",
       "      <td>-0.06</td>\n",
       "      <td>-0.01</td>\n",
       "      <td>14611</td>\n",
       "      <td>26183179</td>\n",
       "      <td>0.22</td>\n",
       "      <td>0.01</td>\n",
       "    </tr>\n",
       "    <tr>\n",
       "      <th>2021-08-03 14:40:00</th>\n",
       "      <td>17.93</td>\n",
       "      <td>17.93</td>\n",
       "      <td>17.94</td>\n",
       "      <td>17.90</td>\n",
       "      <td>0.00</td>\n",
       "      <td>0.00</td>\n",
       "      <td>12076</td>\n",
       "      <td>21636917</td>\n",
       "      <td>0.22</td>\n",
       "      <td>0.01</td>\n",
       "    </tr>\n",
       "    <tr>\n",
       "      <th>2021-08-03 14:45:00</th>\n",
       "      <td>17.90</td>\n",
       "      <td>17.93</td>\n",
       "      <td>17.93</td>\n",
       "      <td>17.89</td>\n",
       "      <td>0.00</td>\n",
       "      <td>0.00</td>\n",
       "      <td>16397</td>\n",
       "      <td>29359350</td>\n",
       "      <td>0.22</td>\n",
       "      <td>0.01</td>\n",
       "    </tr>\n",
       "    <tr>\n",
       "      <th>2021-08-03 14:50:00</th>\n",
       "      <td>17.93</td>\n",
       "      <td>17.97</td>\n",
       "      <td>17.98</td>\n",
       "      <td>17.91</td>\n",
       "      <td>0.22</td>\n",
       "      <td>0.04</td>\n",
       "      <td>19476</td>\n",
       "      <td>34965331</td>\n",
       "      <td>0.39</td>\n",
       "      <td>0.01</td>\n",
       "    </tr>\n",
       "    <tr>\n",
       "      <th>2021-08-03 14:55:00</th>\n",
       "      <td>17.96</td>\n",
       "      <td>17.93</td>\n",
       "      <td>17.97</td>\n",
       "      <td>17.91</td>\n",
       "      <td>-0.22</td>\n",
       "      <td>-0.04</td>\n",
       "      <td>17597</td>\n",
       "      <td>31563908</td>\n",
       "      <td>0.33</td>\n",
       "      <td>0.01</td>\n",
       "    </tr>\n",
       "    <tr>\n",
       "      <th>2021-08-03 15:00:00</th>\n",
       "      <td>17.92</td>\n",
       "      <td>17.89</td>\n",
       "      <td>17.94</td>\n",
       "      <td>17.89</td>\n",
       "      <td>-0.22</td>\n",
       "      <td>-0.04</td>\n",
       "      <td>20126</td>\n",
       "      <td>36034747</td>\n",
       "      <td>0.28</td>\n",
       "      <td>0.01</td>\n",
       "    </tr>\n",
       "  </tbody>\n",
       "</table>\n",
       "</div>"
      ],
      "text/plain": [
       "                        开盘     收盘     最高     最低   涨跌幅   涨跌额    成交量       成交额  \\\n",
       "时间                                                                             \n",
       "2021-08-03 09:35:00  17.99  17.78  18.02  17.75 -1.28 -0.23  52807  94339287   \n",
       "2021-08-03 09:40:00  17.77  17.76  17.83  17.66 -0.11 -0.02  41508  73683531   \n",
       "2021-08-03 09:45:00  17.77  17.77  17.83  17.73  0.06  0.01  18521  32915794   \n",
       "2021-08-03 09:50:00  17.77  17.72  17.78  17.70 -0.28 -0.05  24424  43323693   \n",
       "2021-08-03 09:55:00  17.71  17.77  17.78  17.70  0.28  0.05  23197  41110937   \n",
       "2021-08-03 10:00:00  17.78  17.81  17.83  17.74  0.23  0.04  18111  32208076   \n",
       "2021-08-03 10:05:00  17.83  17.84  17.91  17.79  0.17  0.03  28273  50498772   \n",
       "2021-08-03 10:10:00  17.84  18.01  18.01  17.83  0.95  0.17  37675  67585497   \n",
       "2021-08-03 10:15:00  18.01  18.05  18.09  18.01  0.22  0.04  31315  56528108   \n",
       "2021-08-03 10:20:00  18.04  18.00  18.07  17.98 -0.28 -0.05  25998  46873326   \n",
       "2021-08-03 10:25:00  18.01  17.99  18.03  17.98 -0.06 -0.01  19840  35724912   \n",
       "2021-08-03 10:30:00  17.99  17.89  18.00  17.89 -0.56 -0.10  22437  40295707   \n",
       "2021-08-03 10:35:00  17.89  17.96  17.97  17.89  0.39  0.07  16344  29302241   \n",
       "2021-08-03 10:40:00  17.97  17.94  17.98  17.94 -0.11 -0.02  13929  25017058   \n",
       "2021-08-03 10:45:00  17.94  17.99  18.04  17.90  0.28  0.05  20556  36934160   \n",
       "2021-08-03 10:50:00  18.00  18.11  18.11  17.99  0.67  0.12  24688  44603411   \n",
       "2021-08-03 10:55:00  18.11  18.01  18.15  18.01 -0.55 -0.10  23020  41643532   \n",
       "2021-08-03 11:00:00  18.01  18.03  18.05  17.99  0.11  0.02  12102  21795475   \n",
       "2021-08-03 11:05:00  18.04  18.03  18.05  18.00  0.00  0.00  17303  31197226   \n",
       "2021-08-03 11:10:00  18.03  18.02  18.04  18.00 -0.06 -0.01  12736  22940014   \n",
       "2021-08-03 11:15:00  18.03  18.00  18.03  18.00 -0.11 -0.02  12273  22104969   \n",
       "2021-08-03 11:20:00  18.02  18.07  18.10  18.01  0.39  0.07  20951  37844518   \n",
       "2021-08-03 11:25:00  18.08  18.02  18.09  18.01 -0.28 -0.05  15905  28711245   \n",
       "2021-08-03 11:30:00  18.02  18.02  18.05  18.00  0.00  0.00  13814  24893817   \n",
       "2021-08-03 13:05:00  18.02  18.01  18.04  18.00 -0.06 -0.01  16530  29783440   \n",
       "2021-08-03 13:10:00  18.01  18.04  18.07  18.01  0.17  0.03  14666  26464258   \n",
       "2021-08-03 13:15:00  18.04  17.99  18.05  17.99 -0.28 -0.05  13880  25011176   \n",
       "2021-08-03 13:20:00  17.99  17.98  18.02  17.98 -0.06 -0.01  13451  24208140   \n",
       "2021-08-03 13:25:00  17.98  18.00  18.01  17.97  0.11  0.02  14024  25229291   \n",
       "2021-08-03 13:30:00  18.00  18.01  18.05  17.99  0.06  0.01  15333  27633217   \n",
       "2021-08-03 13:35:00  18.01  18.00  18.03  17.98 -0.06 -0.01  16424  29582866   \n",
       "2021-08-03 13:40:00  18.00  17.99  18.02  17.98 -0.06 -0.01  14696  26452384   \n",
       "2021-08-03 13:45:00  18.00  17.99  18.02  17.98  0.00  0.00  14632  26334531   \n",
       "2021-08-03 13:50:00  18.01  17.99  18.01  17.98  0.00  0.00  11746  21134264   \n",
       "2021-08-03 13:55:00  17.98  17.94  18.00  17.92 -0.28 -0.05  17023  30591848   \n",
       "2021-08-03 14:00:00  17.93  17.95  17.96  17.93  0.06  0.01   8906  15983206   \n",
       "2021-08-03 14:05:00  17.95  17.94  17.96  17.93 -0.06 -0.01   9690  17392582   \n",
       "2021-08-03 14:10:00  17.95  17.93  17.96  17.93 -0.06 -0.01  10427  18707878   \n",
       "2021-08-03 14:15:00  17.93  17.92  17.96  17.92 -0.06 -0.01  10498  18828673   \n",
       "2021-08-03 14:20:00  17.93  17.92  17.94  17.91  0.00  0.00  16589  29733764   \n",
       "2021-08-03 14:25:00  17.91  17.93  17.94  17.90  0.06  0.01  17581  31496394   \n",
       "2021-08-03 14:30:00  17.92  17.94  17.96  17.91  0.06  0.01  12845  23035897   \n",
       "2021-08-03 14:35:00  17.94  17.93  17.94  17.90 -0.06 -0.01  14611  26183179   \n",
       "2021-08-03 14:40:00  17.93  17.93  17.94  17.90  0.00  0.00  12076  21636917   \n",
       "2021-08-03 14:45:00  17.90  17.93  17.93  17.89  0.00  0.00  16397  29359350   \n",
       "2021-08-03 14:50:00  17.93  17.97  17.98  17.91  0.22  0.04  19476  34965331   \n",
       "2021-08-03 14:55:00  17.96  17.93  17.97  17.91 -0.22 -0.04  17597  31563908   \n",
       "2021-08-03 15:00:00  17.92  17.89  17.94  17.89 -0.22 -0.04  20126  36034747   \n",
       "\n",
       "                       振幅   换手率  \n",
       "时间                               \n",
       "2021-08-03 09:35:00  1.50  0.03  \n",
       "2021-08-03 09:40:00  0.96  0.02  \n",
       "2021-08-03 09:45:00  0.56  0.01  \n",
       "2021-08-03 09:50:00  0.45  0.01  \n",
       "2021-08-03 09:55:00  0.45  0.01  \n",
       "2021-08-03 10:00:00  0.51  0.01  \n",
       "2021-08-03 10:05:00  0.67  0.01  \n",
       "2021-08-03 10:10:00  1.01  0.02  \n",
       "2021-08-03 10:15:00  0.44  0.02  \n",
       "2021-08-03 10:20:00  0.50  0.01  \n",
       "2021-08-03 10:25:00  0.28  0.01  \n",
       "2021-08-03 10:30:00  0.61  0.01  \n",
       "2021-08-03 10:35:00  0.45  0.01  \n",
       "2021-08-03 10:40:00  0.22  0.01  \n",
       "2021-08-03 10:45:00  0.78  0.01  \n",
       "2021-08-03 10:50:00  0.67  0.01  \n",
       "2021-08-03 10:55:00  0.77  0.01  \n",
       "2021-08-03 11:00:00  0.33  0.01  \n",
       "2021-08-03 11:05:00  0.28  0.01  \n",
       "2021-08-03 11:10:00  0.22  0.01  \n",
       "2021-08-03 11:15:00  0.17  0.01  \n",
       "2021-08-03 11:20:00  0.50  0.01  \n",
       "2021-08-03 11:25:00  0.44  0.01  \n",
       "2021-08-03 11:30:00  0.28  0.01  \n",
       "2021-08-03 13:05:00  0.22  0.01  \n",
       "2021-08-03 13:10:00  0.33  0.01  \n",
       "2021-08-03 13:15:00  0.33  0.01  \n",
       "2021-08-03 13:20:00  0.22  0.01  \n",
       "2021-08-03 13:25:00  0.22  0.01  \n",
       "2021-08-03 13:30:00  0.33  0.01  \n",
       "2021-08-03 13:35:00  0.28  0.01  \n",
       "2021-08-03 13:40:00  0.22  0.01  \n",
       "2021-08-03 13:45:00  0.22  0.01  \n",
       "2021-08-03 13:50:00  0.17  0.01  \n",
       "2021-08-03 13:55:00  0.44  0.01  \n",
       "2021-08-03 14:00:00  0.17  0.00  \n",
       "2021-08-03 14:05:00  0.17  0.00  \n",
       "2021-08-03 14:10:00  0.17  0.01  \n",
       "2021-08-03 14:15:00  0.22  0.01  \n",
       "2021-08-03 14:20:00  0.17  0.01  \n",
       "2021-08-03 14:25:00  0.22  0.01  \n",
       "2021-08-03 14:30:00  0.28  0.01  \n",
       "2021-08-03 14:35:00  0.22  0.01  \n",
       "2021-08-03 14:40:00  0.22  0.01  \n",
       "2021-08-03 14:45:00  0.22  0.01  \n",
       "2021-08-03 14:50:00  0.39  0.01  \n",
       "2021-08-03 14:55:00  0.33  0.01  \n",
       "2021-08-03 15:00:00  0.28  0.01  "
      ]
     },
     "execution_count": 33,
     "metadata": {},
     "output_type": "execute_result"
    }
   ],
   "source": [
    "df2.truncate(after=pd.Timestamp('2021-08-04'))"
   ]
  },
  {
   "cell_type": "markdown",
   "metadata": {},
   "source": [
    "### 15 - 金融计算｜涨跌额\n",
    "\n",
    "`df1` 新增一列 涨跌，计算前后两日收盘价之差\n",
    "\n",
    "注意：虽然我们的df1包含涨跌额列，但是这个操作很常用，所以练习一下"
   ]
  },
  {
   "cell_type": "code",
   "execution_count": 35,
   "metadata": {},
   "outputs": [
    {
     "data": {
      "text/plain": [
       "0        NaN\n",
       "1       0.00\n",
       "2       0.01\n",
       "3      -0.04\n",
       "4       0.02\n",
       "        ... \n",
       "1141   -0.01\n",
       "1142   -0.23\n",
       "1143    1.57\n",
       "1144   -0.36\n",
       "1145   -0.84\n",
       "Name: 涨跌, Length: 1146, dtype: float64"
      ]
     },
     "execution_count": 35,
     "metadata": {},
     "output_type": "execute_result"
    }
   ],
   "source": [
    "df1['涨跌']  = df1.收盘.diff()\n",
    "df1['涨跌']"
   ]
  },
  {
   "cell_type": "markdown",
   "metadata": {},
   "source": [
    "### 16 - 金融计算｜涨跌幅\n",
    "\n",
    "`df1` 新增一列 涨跌变化率，计算前后两日收盘价之差的变化率\n",
    "\n",
    "注意：虽然我们的df1包含涨跌幅列，但是这个操作很常用，所以练习一下，结果可以用于验证"
   ]
  },
  {
   "cell_type": "code",
   "execution_count": 36,
   "metadata": {},
   "outputs": [
    {
     "data": {
      "text/plain": [
       "0         nan%\n",
       "1        0.00%\n",
       "2        0.12%\n",
       "3       -0.48%\n",
       "4        0.24%\n",
       "         ...  \n",
       "1141    -0.05%\n",
       "1142    -1.20%\n",
       "1143     8.26%\n",
       "1144    -1.75%\n",
       "1145    -4.16%\n",
       "Name: 涨跌变化率, Length: 1146, dtype: object"
      ]
     },
     "execution_count": 36,
     "metadata": {},
     "output_type": "execute_result"
    }
   ],
   "source": [
    "df1['涨跌变化率'] = (df1.收盘.pct_change()).apply(lambda x: format(x, '.2%'))\n",
    "df1['涨跌变化率']"
   ]
  },
  {
   "cell_type": "markdown",
   "metadata": {},
   "source": [
    "### 17 - 金融计算｜移动均值\n",
    "\n",
    "计算收盘价的5日移动均线"
   ]
  },
  {
   "cell_type": "code",
   "execution_count": 37,
   "metadata": {},
   "outputs": [
    {
     "data": {
      "text/plain": [
       "0          NaN\n",
       "1          NaN\n",
       "2          NaN\n",
       "3          NaN\n",
       "4        8.314\n",
       "         ...  \n",
       "1141    18.672\n",
       "1142    18.792\n",
       "1143    19.298\n",
       "1144    19.650\n",
       "1145    19.676\n",
       "Name: 收盘, Length: 1146, dtype: float64"
      ]
     },
     "execution_count": 37,
     "metadata": {},
     "output_type": "execute_result"
    }
   ],
   "source": [
    "df1.收盘.rolling(window=5).mean()"
   ]
  },
  {
   "cell_type": "markdown",
   "metadata": {},
   "source": [
    "### 18 - 金融计算｜移动均值（可视化）\n",
    "\n",
    "计算并绘制收盘价的5日移动均线"
   ]
  },
  {
   "cell_type": "code",
   "execution_count": 38,
   "metadata": {},
   "outputs": [
    {
     "data": {
      "text/plain": [
       "<AxesSubplot:>"
      ]
     },
     "execution_count": 38,
     "metadata": {},
     "output_type": "execute_result"
    },
    {
     "data": {
      "image/png": "[encoded data removed]",
      "text/plain": [
       "<Figure size 432x288 with 1 Axes>"
      ]
     },
     "metadata": {
      "needs_background": "light"
     },
     "output_type": "display_data"
    }
   ],
   "source": [
    "df1.收盘.rolling(window=5).mean().plot()"
   ]
  },
  {
   "cell_type": "markdown",
   "metadata": {},
   "source": [
    "### 19 - 金融计算｜移动均值（可视化）\n",
    "\n",
    "同时计算并绘制 df1 的收盘价、5日均线、20日均线"
   ]
  },
  {
   "cell_type": "code",
   "execution_count": 39,
   "metadata": {},
   "outputs": [
    {
     "data": {
      "text/plain": [
       "<AxesSubplot:xlabel='日期'>"
      ]
     },
     "execution_count": 39,
     "metadata": {},
     "output_type": "execute_result"
    },
    {
     "data": {
      "text/plain": [
       "<AxesSubplot:xlabel='日期'>"
      ]
     },
     "execution_count": 39,
     "metadata": {},
     "output_type": "execute_result"
    },
    {
     "data": {
      "text/plain": [
       "<AxesSubplot:xlabel='日期'>"
      ]
     },
     "execution_count": 39,
     "metadata": {},
     "output_type": "execute_result"
    },
    {
     "data": {
      "image/png": "[encoded data removed]",
      "text/plain": [
       "<Figure size 432x288 with 1 Axes>"
      ]
     },
     "metadata": {
      "needs_background": "light"
     },
     "output_type": "display_data"
    }
   ],
   "source": [
    "df1.set_index(\"日期\")['收盘'].plot()\n",
    "df1.set_index(\"日期\")['收盘'].rolling(5).mean().plot()\n",
    "df1.set_index(\"日期\")['收盘'].rolling(20).mean().plot()"
   ]
  },
  {
   "cell_type": "markdown",
   "metadata": {},
   "source": [
    "### 20 - 金融计算｜指数移动平均值（EMA）\n",
    "\n",
    "根据 df1 计算 EMA20"
   ]
  },
  {
   "cell_type": "code",
   "execution_count": 43,
   "metadata": {},
   "outputs": [],
   "source": [
    "df1['EMA20'] = df1['收盘'].ewm(span=20,min_periods=0,adjust=False,ignore_na=False).mean()"
   ]
  },
  {
   "cell_type": "markdown",
   "metadata": {},
   "source": [
    "### 21 - 金融计算｜MACD\n",
    "\n",
    "计算 df1 的 MACD 指标"
   ]
  },
  {
   "cell_type": "code",
   "execution_count": 309,
   "metadata": {},
   "outputs": [],
   "source": []
  },
  {
   "cell_type": "markdown",
   "metadata": {},
   "source": [
    "### 22 - 金融计算｜布林指标\n",
    "\n",
    "计算并绘制布林指标，计算方法参考[百度百科](https://baike.baidu.com/item/%E5%B8%83%E6%9E%97%E7%BA%BF%E6%8C%87%E6%A0%87/3325894?fromtitle=%E5%B8%83%E6%9E%97%E6%8C%87%E6%A0%87&fromid=258891&fr=aladdin)\n"
   ]
  },
  {
   "cell_type": "code",
   "execution_count": null,
   "metadata": {},
   "outputs": [],
   "source": []
  },
  {
   "cell_type": "markdown",
   "metadata": {},
   "source": [
    "### 23 - 日期移动｜值\n",
    "\n",
    "将 df1 的索引设置为日期，将 df1 数据向后移动一天"
   ]
  },
  {
   "cell_type": "code",
   "execution_count": null,
   "metadata": {},
   "outputs": [],
   "source": []
  },
  {
   "cell_type": "markdown",
   "metadata": {},
   "source": [
    "### 24 - 日期移动｜索引\n",
    "\n",
    "将 df1 的索引设置为日期，并将全部日期向后移动一天"
   ]
  },
  {
   "cell_type": "code",
   "execution_count": null,
   "metadata": {},
   "outputs": [],
   "source": []
  },
  {
   "cell_type": "markdown",
   "metadata": {},
   "source": [
    "### 25 - 日期重采样｜日 -> 周\n",
    "\n",
    "按周对 df1 进行重采样，保留每周最后一个数据"
   ]
  },
  {
   "cell_type": "code",
   "execution_count": null,
   "metadata": {},
   "outputs": [],
   "source": []
  },
  {
   "cell_type": "markdown",
   "metadata": {},
   "source": [
    "### 26 - 日期重采样｜日 -> 月\n",
    "\n",
    "按月对 df1 进行重采样，保留每月最后一个数据"
   ]
  },
  {
   "cell_type": "code",
   "execution_count": null,
   "metadata": {},
   "outputs": [],
   "source": []
  },
  {
   "cell_type": "markdown",
   "metadata": {},
   "source": [
    "### 27 - 日期重采样｜分钟 -> 日\n",
    "\n",
    "按日对 df2 进行重采样，保留每天最后一个数据"
   ]
  },
  {
   "cell_type": "code",
   "execution_count": null,
   "metadata": {},
   "outputs": [],
   "source": []
  },
  {
   "cell_type": "markdown",
   "metadata": {},
   "source": [
    "微信搜索公众号「早起Python」，关注后可以获得更多资源！"
   ]
  },
  {
   "cell_type": "code",
   "execution_count": null,
   "metadata": {},
   "outputs": [],
   "source": []
  },
  {
   "cell_type": "markdown",
   "metadata": {},
   "source": [
    "### 28 - 日期重采样｜低频 -> 高频\n",
    "\n",
    "将 df2 的 5分钟 数据改为 3分钟，缺失数据向前填充"
   ]
  },
  {
   "cell_type": "code",
   "execution_count": null,
   "metadata": {},
   "outputs": [],
   "source": []
  },
  {
   "cell_type": "markdown",
   "metadata": {},
   "source": [
    "## 8-3 K线图\n",
    "\n",
    "<br>\n",
    "\n",
    "**<font color = '#5172F0'><font size=3.5>必读👇👇👇**</font>\n",
    "\n",
    "在 Python 中绘制k线图有很多方法，例如可以直接用 matplotlib 进行绘制。\n",
    "\n",
    "本习题将基于一个简单易上手的库 `mplfinance` 进行展开。"
   ]
  },
  {
   "cell_type": "markdown",
   "metadata": {},
   "source": [
    "如果未安装 mplfinance 需要先执行下面的代码进行安装！"
   ]
  },
  {
   "cell_type": "code",
   "execution_count": null,
   "metadata": {},
   "outputs": [],
   "source": [
    "! pip install mplfinance"
   ]
  },
  {
   "cell_type": "markdown",
   "metadata": {},
   "source": [
    "安装后执行下面的代码导入"
   ]
  },
  {
   "cell_type": "code",
   "execution_count": 44,
   "metadata": {},
   "outputs": [],
   "source": [
    "import mplfinance as mpf"
   ]
  },
  {
   "cell_type": "markdown",
   "metadata": {},
   "source": [
    "使用 mplfinance 有固定的格式!\n",
    "\n",
    "数据必须是`Pandas DataFrame`格式，必须包含开盘价、最高价、最低价和收盘价，需要使用`DatetimeIndex`作为索引\n",
    "\n",
    "为了方便大家练习，第一个K线图我将引导大家制作！\n",
    "\n",
    "首先就是将数据处理为它指定的形状👇"
   ]
  },
  {
   "cell_type": "markdown",
   "metadata": {},
   "source": [
    "### 29 - 数据处理｜选择列\n",
    "\n",
    "<br>\n",
    "\n",
    "筛选 `df1` 中`'日期','开盘','最高','最低','收盘','成交量'`几列，并命名为新数据框 `df_new`"
   ]
  },
  {
   "cell_type": "code",
   "execution_count": 45,
   "metadata": {},
   "outputs": [],
   "source": [
    "df_new = df1[['日期','开盘','最高','最低','收盘','成交量']]"
   ]
  },
  {
   "cell_type": "markdown",
   "metadata": {},
   "source": [
    "### 30 - 数据处理｜修改列名\n",
    "\n",
    "<br>\n",
    "\n",
    "将 df_new 的列名修改为 `'Date','Open','High','Low','Close','Volume'`"
   ]
  },
  {
   "cell_type": "code",
   "execution_count": 46,
   "metadata": {},
   "outputs": [],
   "source": [
    "df_new.columns = ['Date','Open','High','Low','Close','Volume']"
   ]
  },
  {
   "cell_type": "markdown",
   "metadata": {},
   "source": [
    "### 31 - 数据处理｜修改索引\n",
    "\n",
    "<br>\n",
    "\n",
    "将 df_new 的索引列修改为 Date 列"
   ]
  },
  {
   "cell_type": "code",
   "execution_count": 47,
   "metadata": {},
   "outputs": [],
   "source": [
    "df_new.set_index([\"Date\"], inplace=True)"
   ]
  },
  {
   "cell_type": "markdown",
   "metadata": {},
   "source": [
    "### 32 - 制作K线图｜日线\n",
    "\n",
    "根据 df_new 绘制日线级K线"
   ]
  },
  {
   "cell_type": "code",
   "execution_count": 48,
   "metadata": {},
   "outputs": [
    {
     "data": {
      "image/png": "[encoded data removed]",
      "text/plain": [
       "<Figure size 800x575 with 2 Axes>"
      ]
     },
     "metadata": {},
     "output_type": "display_data"
    }
   ],
   "source": [
    "mpf.plot(df_new, type='line')"
   ]
  },
  {
   "cell_type": "markdown",
   "metadata": {},
   "source": [
    "### 33 - 制作K线图｜添加移动均线"
   ]
  },
  {
   "cell_type": "markdown",
   "metadata": {},
   "source": [
    "在上一题的基础上，添加5日、10日、15日移动均线"
   ]
  },
  {
   "cell_type": "code",
   "execution_count": 49,
   "metadata": {},
   "outputs": [
    {
     "data": {
      "image/png": "[encoded data removed]",
      "text/plain": [
       "<Figure size 800x575 with 2 Axes>"
      ]
     },
     "metadata": {},
     "output_type": "display_data"
    }
   ],
   "source": [
    "mpf.plot(df_new, type='line',mav=(5,10,15))"
   ]
  },
  {
   "cell_type": "markdown",
   "metadata": {},
   "source": [
    "### 34 - 制作K线图｜添加成交量"
   ]
  },
  {
   "cell_type": "markdown",
   "metadata": {},
   "source": [
    "在上一题的基础上，添加成交量"
   ]
  },
  {
   "cell_type": "code",
   "execution_count": 50,
   "metadata": {
    "scrolled": true
   },
   "outputs": [
    {
     "data": {
      "image/png": "[encoded data removed]",
      "text/plain": [
       "<Figure size 800x575 with 4 Axes>"
      ]
     },
     "metadata": {},
     "output_type": "display_data"
    }
   ],
   "source": [
    "mpf.plot(df_new, type='line',mav=(5,10,15), volume=True)"
   ]
  },
  {
   "cell_type": "markdown",
   "metadata": {},
   "source": [
    "### 35 - 制作K线图｜周线"
   ]
  },
  {
   "cell_type": "markdown",
   "metadata": {},
   "source": [
    "对 df1 进行重采样，制作周线级K线"
   ]
  },
  {
   "cell_type": "code",
   "execution_count": 51,
   "metadata": {},
   "outputs": [
    {
     "data": {
      "image/png": "[encoded data removed]",
      "text/plain": [
       "<Figure size 800x575 with 4 Axes>"
      ]
     },
     "metadata": {},
     "output_type": "display_data"
    }
   ],
   "source": [
    "df_new = df1.set_index('日期').resample('W').last()\n",
    "df_new = df_new[['开盘','最高','最低','收盘','成交量']]\n",
    "df_new.columns = ['Open','High','Low','Close','Volume']\n",
    "mpf.plot(df_new, type='candle',mav=(5,10,15), volume=True)"
   ]
  },
  {
   "cell_type": "markdown",
   "metadata": {},
   "source": [
    "### 36 - 制作K线图｜蜡烛图"
   ]
  },
  {
   "cell_type": "markdown",
   "metadata": {},
   "source": [
    "使用 df2 数据，筛选出 8月3日 的数据，制作蜡烛图"
   ]
  },
  {
   "cell_type": "code",
   "execution_count": 59,
   "metadata": {},
   "outputs": [],
   "source": [
    "df_new = df2[(df2['时间'] > '2021-08-03 09:35:00') & (df2['时间'] < '2021-08-03 15:00:00')]\n",
    "df_new = df_new[['时间','开盘','最高','最低','收盘','成交量']]\n",
    "df_new.columns = ['Date','Open','High','Low','Close','Volume']\n",
    "df_new.set_index([\"Date\"], inplace=True)"
   ]
  },
  {
   "cell_type": "code",
   "execution_count": 134,
   "metadata": {},
   "outputs": [
    {
     "data": {
      "image/png": "[encoded data removed]",
      "text/plain": [
       "<Figure size 800x575 with 4 Axes>"
      ]
     },
     "metadata": {},
     "output_type": "display_data"
    }
   ],
   "source": []
  },
  {
   "cell_type": "markdown",
   "metadata": {},
   "source": [
    "### 37 - 制作K线图｜展示非交易时间\n",
    "\n",
    "<br>\n",
    "\n",
    "使用 df2 数据，筛选 8月3日-8月4日的数据，制作蜡烛图并展示非交易时间区间"
   ]
  },
  {
   "cell_type": "code",
   "execution_count": 60,
   "metadata": {},
   "outputs": [],
   "source": [
    "df_new = df2[(df2['时间'] > '2021-08-03 9:00:00') & (df2['时间'] < '2021-08-04 15:00:00')]\n",
    "df_new = df_new[['时间','开盘','最高','最低','收盘','成交量']]\n",
    "df_new.columns = ['Date','Open','High','Low','Close','Volume']\n",
    "df_new.set_index([\"Date\"], inplace=True)"
   ]
  },
  {
   "cell_type": "code",
   "execution_count": 55,
   "metadata": {},
   "outputs": [
    {
     "data": {
      "image/png": "[encoded data removed]",
      "text/plain": [
       "<Figure size 800x575 with 4 Axes>"
      ]
     },
     "metadata": {},
     "output_type": "display_data"
    }
   ],
   "source": [
    "mpf.plot(df_new,type='candle',show_nontrading=True, volume=True)"
   ]
  },
  {
   "cell_type": "markdown",
   "metadata": {},
   "source": [
    "![](http://liuzaoqi.oss-cn-beijing.aliyuncs.com/2021/09/16/16317972442543.jpg?域名/sample.jpg?x-oss-process=style/stylename)"
   ]
  },
  {
   "cell_type": "code",
   "execution_count": null,
   "metadata": {},
   "outputs": [],
   "source": []
  },
  {
   "cell_type": "code",
   "execution_count": null,
   "metadata": {},
   "outputs": [],
   "source": []
  }
 ],
 "metadata": {
  "kernelspec": {
   "display_name": "Python 3",
   "language": "python",
   "name": "python3"
  },
  "language_info": {
   "codemirror_mode": {
    "name": "ipython",
    "version": 3
   },
   "file_extension": ".py",
   "mimetype": "text/x-python",
   "name": "python",
   "nbconvert_exporter": "python",
   "pygments_lexer": "ipython3",
   "version": "3.9.7"
  },
  "toc": {
   "base_numbering": 1,
   "nav_menu": {},
   "number_sections": false,
   "sideBar": true,
   "skip_h1_title": false,
   "title_cell": "Table of Contents",
   "title_sidebar": "Contents",
   "toc_cell": false,
   "toc_position": {
    "height": "calc(100% - 180px)",
    "left": "10px",
    "top": "150px",
    "width": "384px"
   },
   "toc_section_display": true,
   "toc_window_display": true
  }
 },
 "nbformat": 4,
 "nbformat_minor": 4
}
